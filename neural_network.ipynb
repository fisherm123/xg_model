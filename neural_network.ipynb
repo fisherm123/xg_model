{
 "cells": [
  {
   "cell_type": "code",
   "execution_count": 24,
   "metadata": {},
   "outputs": [],
   "source": [
    "import torch\n",
    "import numpy as np\n",
    "from sklearn.calibration import calibration_curve\n",
    "import sklearn.metrics as skmetrics\n",
    "import plotly.graph_objects as go\n",
    "import time"
   ]
  },
  {
   "cell_type": "code",
   "execution_count": 37,
   "metadata": {},
   "outputs": [],
   "source": [
    "# Batch size - number of shots within a training batch of one training iteration\n",
    "N_BATCH = 200\n",
    "\n",
    "# Training epoch - number of passes through the full training dataset\n",
    "N_EPOCH = 35\n",
    "\n",
    "# Learning rate - step size to update parameters\n",
    "LEARNING_RATE = 0.01\n",
    "\n",
    "# Learning rate decay - scaling factor to decrease learning rate at the end of each decay period\n",
    "LEARNING_RATE_DECAY = 0.75\n",
    "\n",
    "# Learning rate decay period - number of epochs before reducing/decaying learning rate\n",
    "LEARNING_RATE_DECAY_PERIOD = 4"
   ]
  },
  {
   "cell_type": "code",
   "execution_count": 29,
   "metadata": {},
   "outputs": [],
   "source": [
    "class NeuralNetwork(torch.nn.Module):\n",
    "    '''\n",
    "    Neural network class of fully connected layers\n",
    "\n",
    "    Arg(s):\n",
    "        n_input_feature : int\n",
    "            number of input features\n",
    "        n_output : int\n",
    "            number of output classes\n",
    "    '''\n",
    "\n",
    "    def __init__(self, n_input_feature, n_output):\n",
    "        super(NeuralNetwork, self).__init__()\n",
    "\n",
    "        self.fully_connected_layer_1 = torch.nn.Linear(n_input_feature, 128)\n",
    "        self.fully_connected_layer_2 = torch.nn.Linear(128, 256)\n",
    "        self.fully_connected_layer_3 = torch.nn.Linear(256, 512)\n",
    "        self.fully_connected_layer_4 = torch.nn.Linear(512, 1024)\n",
    "\n",
    "        self.output = torch.nn.Linear(1024, n_output)\n",
    "\n",
    "    def forward(self, x):\n",
    "        '''\n",
    "        Forward pass through the neural network\n",
    "\n",
    "        Arg(s):\n",
    "            x : torch.Tensor[float32]\n",
    "                tensor of N x d\n",
    "        Returns:\n",
    "            torch.Tensor[float32]\n",
    "                tensor of n_output predicted class\n",
    "        '''\n",
    "\n",
    "        output_fc1 = torch.nn.functional.relu(self.fully_connected_layer_1(x))\n",
    "        output_fc2 = torch.nn.functional.relu(self.fully_connected_layer_2(output_fc1))\n",
    "        output_fc3 = torch.nn.functional.relu(self.fully_connected_layer_3(output_fc2))\n",
    "        output_fc4 = torch.nn.functional.relu(self.fully_connected_layer_4(output_fc3))\n",
    "\n",
    "        output_logits = self.output(output_fc4)\n",
    "\n",
    "        return output_logits\n"
   ]
  },
  {
   "cell_type": "code",
   "execution_count": 19,
   "metadata": {},
   "outputs": [],
   "source": [
    "def train(model,\n",
    "          dataloader,\n",
    "          n_epoch,\n",
    "          optimizer,\n",
    "          learning_rate_decay,\n",
    "          learning_rate_decay_period):\n",
    "    '''\n",
    "    Trains the model using optimizer and specified learning rate schedule\n",
    "\n",
    "    Arg(s):\n",
    "        model : torch.nn.Module\n",
    "            neural network or logistic regression\n",
    "        dataloader : torch.utils.data.DataLoader\n",
    "            # https://pytorch.org/docs/stable/data.html\n",
    "            dataloader for training data\n",
    "        n_epoch : int\n",
    "            number of epochs to train\n",
    "        optimizer : torch.optim\n",
    "            https://pytorch.org/docs/stable/optim.html\n",
    "            optimizer to use for updating weights\n",
    "        learning_rate_decay : float\n",
    "            rate of learning rate decay\n",
    "        learning_rate_decay_period : int\n",
    "            period to reduce learning rate based on decay e.g. every 2 epoch\n",
    "        device : str\n",
    "            device to run on\n",
    "    Returns:\n",
    "        torch.nn.Module : trained network\n",
    "    '''\n",
    "    loss_func = torch.nn.CrossEntropyLoss()\n",
    "\n",
    "    for epoch in range(n_epoch):\n",
    "\n",
    "        total_loss = 0.0\n",
    "\n",
    "        if epoch and epoch % learning_rate_decay_period == 0:\n",
    "            for group in optimizer.param_groups:\n",
    "              group['lr'] = group['lr'] * learning_rate_decay\n",
    "        \n",
    "        for _, batch in enumerate(dataloader):\n",
    "\n",
    "            labels = batch[:, 1].long()\n",
    "            labels = torch.where(labels == -1, torch.tensor(0), labels)\n",
    "            vectors = batch[:, 2:]\n",
    "\n",
    "            outputs = model(vectors)\n",
    "\n",
    "            optimizer.zero_grad()\n",
    "\n",
    "            loss = loss_func(outputs, labels)\n",
    "\n",
    "            loss.backward()\n",
    "            optimizer.step()\n",
    "\n",
    "            total_loss = total_loss + loss.item()\n",
    "\n",
    "        mean_loss = total_loss / len(dataloader)\n",
    "\n",
    "        # Log average loss over the epoch\n",
    "        print('Epoch={}/{}  Loss: {:.3f}'.format(epoch + 1, n_epoch, mean_loss))\n",
    "\n",
    "    return model\n"
   ]
  },
  {
   "cell_type": "code",
   "execution_count": 20,
   "metadata": {},
   "outputs": [],
   "source": [
    "def evaluate(model, dataloader):\n",
    "\n",
    "    true_labels = []\n",
    "    predicted_probs = []\n",
    "    sb_probs = []\n",
    "\n",
    "    with torch.no_grad():\n",
    "        for batch in dataloader:\n",
    "            labels = batch[:, 1].long()\n",
    "            vectors = batch[:, 2:]\n",
    "\n",
    "            outputs = model.forward(vectors)\n",
    "            probabilities = torch.nn.functional.softmax(outputs, dim=1)\n",
    "\n",
    "            predicted_probs.extend(probabilities[:, 1].tolist())\n",
    "            true_labels.extend(labels.tolist())\n",
    "            sb_probs.extend(batch[:, 0].tolist())\n",
    "\n",
    "    return true_labels, predicted_probs, sb_probs"
   ]
  },
  {
   "cell_type": "code",
   "execution_count": 70,
   "metadata": {},
   "outputs": [],
   "source": [
    "data = np.vectorize(float)(np.load('data/shots.npy', allow_pickle=True))"
   ]
  },
  {
   "cell_type": "code",
   "execution_count": 71,
   "metadata": {},
   "outputs": [
    {
     "name": "stdout",
     "output_type": "stream",
     "text": [
      "Epoch=1/35  Loss: 0.334\n",
      "Epoch=2/35  Loss: 0.302\n",
      "Epoch=3/35  Loss: 0.297\n",
      "Epoch=4/35  Loss: 0.295\n",
      "Epoch=5/35  Loss: 0.291\n",
      "Epoch=6/35  Loss: 0.289\n",
      "Epoch=7/35  Loss: 0.289\n",
      "Epoch=8/35  Loss: 0.288\n",
      "Epoch=9/35  Loss: 0.285\n",
      "Epoch=10/35  Loss: 0.285\n",
      "Epoch=11/35  Loss: 0.284\n",
      "Epoch=12/35  Loss: 0.284\n",
      "Epoch=13/35  Loss: 0.282\n",
      "Epoch=14/35  Loss: 0.282\n",
      "Epoch=15/35  Loss: 0.282\n",
      "Epoch=16/35  Loss: 0.281\n",
      "Epoch=17/35  Loss: 0.280\n",
      "Epoch=18/35  Loss: 0.280\n",
      "Epoch=19/35  Loss: 0.280\n",
      "Epoch=20/35  Loss: 0.280\n",
      "Epoch=21/35  Loss: 0.279\n",
      "Epoch=22/35  Loss: 0.279\n",
      "Epoch=23/35  Loss: 0.279\n",
      "Epoch=24/35  Loss: 0.279\n",
      "Epoch=25/35  Loss: 0.278\n",
      "Epoch=26/35  Loss: 0.278\n",
      "Epoch=27/35  Loss: 0.278\n",
      "Epoch=28/35  Loss: 0.278\n",
      "Epoch=29/35  Loss: 0.277\n",
      "Epoch=30/35  Loss: 0.277\n",
      "Epoch=31/35  Loss: 0.277\n",
      "Epoch=32/35  Loss: 0.277\n",
      "Epoch=33/35  Loss: 0.276\n",
      "Epoch=34/35  Loss: 0.276\n",
      "Epoch=35/35  Loss: 0.276\n",
      "Total training time: 83.701338 seconds\n"
     ]
    }
   ],
   "source": [
    "'''\n",
    "Set up dataloading\n",
    "'''\n",
    "tensor_data_train = torch.from_numpy(data).float()\n",
    "\n",
    "dataloader_train = torch.utils.data.DataLoader(\n",
    "    tensor_data_train,\n",
    "    batch_size=N_BATCH,\n",
    "    shuffle=True,\n",
    "    drop_last=True,\n",
    "    num_workers=2)\n",
    "\n",
    "n_class = 2\n",
    "\n",
    "'''\n",
    "Set up model and optimizer\n",
    "'''\n",
    "n_input_feature = 48\n",
    "\n",
    "model = NeuralNetwork(n_input_feature, n_class)\n",
    "\n",
    "optimizer = torch.optim.SGD(model.parameters(), lr=LEARNING_RATE)\n",
    "\n",
    "'''\n",
    "Train model\n",
    "'''\n",
    "model.train()\n",
    "\n",
    "time_start = time.time()\n",
    "\n",
    "model = train(\n",
    "    model,\n",
    "    dataloader_train,\n",
    "    N_EPOCH,\n",
    "    optimizer,\n",
    "    learning_rate_decay=LEARNING_RATE_DECAY,\n",
    "    learning_rate_decay_period=LEARNING_RATE_DECAY_PERIOD)\n",
    "\n",
    "time_elapsed = time.time() - time_start\n",
    "print('Total training time: {:3f} seconds'.format(time_elapsed))\n"
   ]
  },
  {
   "cell_type": "code",
   "execution_count": 72,
   "metadata": {},
   "outputs": [
    {
     "name": "stdout",
     "output_type": "stream",
     "text": [
      "Testing Log-loss of Our Model: 0.2758\n",
      "Testing Log-loss of StatsBomb Model: 0.2625\n"
     ]
    },
    {
     "data": {
      "application/vnd.plotly.v1+json": {
       "config": {
        "plotlyServerURL": "https://plot.ly"
       },
       "data": [
        {
         "mode": "markers+lines",
         "name": "Our Model",
         "type": "scatter",
         "x": [
          0.04338678830241335,
          0.14175504491839944,
          0.24359129294656884,
          0.3440754622300278,
          0.4415925160393935,
          0.5358046026814063,
          0.6357710300122991,
          0.7320257693529129,
          0.8381762057542801
         ],
         "y": [
          0.04071175178782589,
          0.1346142816174362,
          0.2415722278008894,
          0.375406443984629,
          0.49711815561959655,
          0.6589403973509934,
          0.8382352941176471,
          0.7,
          1
         ]
        },
        {
         "mode": "markers+lines",
         "name": "StatsBomb",
         "type": "scatter",
         "x": [
          0.042323672692635275,
          0.13876208513877006,
          0.24399765366414009,
          0.3460353405315639,
          0.4453684100485877,
          0.5435907171538231,
          0.6455348119250598,
          0.7499181086602418,
          0.8525580540299416,
          0.9354913521558046
         ],
         "y": [
          0.0431323558419357,
          0.15831069399851816,
          0.2732544653212712,
          0.3536796536796537,
          0.4495476687543493,
          0.5443864229765013,
          0.6923076923076923,
          0.7869565217391304,
          0.875,
          0.95
         ]
        },
        {
         "line": {
          "dash": "dash"
         },
         "mode": "lines",
         "name": "Perfect Calibration",
         "type": "scatter",
         "x": [
          0,
          0.1111111111111111,
          0.2222222222222222,
          0.3333333333333333,
          0.4444444444444444,
          0.5555555555555556,
          0.6666666666666666,
          0.7777777777777777,
          0.8888888888888888,
          1
         ],
         "y": [
          0,
          0.1111111111111111,
          0.2222222222222222,
          0.3333333333333333,
          0.4444444444444444,
          0.5555555555555556,
          0.6666666666666666,
          0.7777777777777777,
          0.8888888888888888,
          1
         ]
        },
        {
         "name": "Our Model's Number of Shots per Bucket",
         "opacity": 0.5,
         "type": "bar",
         "x": [
          "0.1",
          "0.2",
          "0.3",
          "0.4",
          "0.5",
          "0.6",
          "0.7",
          "0.8",
          "0.9",
          "1.0"
         ],
         "xaxis": "x2",
         "y": [
          53277,
          17435,
          6971,
          3383,
          1388,
          302,
          68,
          20,
          4,
          0
         ],
         "yaxis": "y2"
        },
        {
         "name": "StatsBomb Model's Number of Shots per Bucket",
         "opacity": 0.5,
         "type": "bar",
         "x": [
          "0.1",
          "0.2",
          "0.3",
          "0.4",
          "0.5",
          "0.6",
          "0.7",
          "0.8",
          "0.9",
          "1.0"
         ],
         "xaxis": "x2",
         "y": [
          60836,
          12147,
          4311,
          2310,
          1437,
          766,
          403,
          230,
          248,
          160
         ],
         "yaxis": "y2"
        }
       ],
       "layout": {
        "height": 650,
        "legend": {
         "orientation": "h"
        },
        "template": {
         "data": {
          "bar": [
           {
            "error_x": {
             "color": "#f2f5fa"
            },
            "error_y": {
             "color": "#f2f5fa"
            },
            "marker": {
             "line": {
              "color": "rgb(17,17,17)",
              "width": 0.5
             },
             "pattern": {
              "fillmode": "overlay",
              "size": 10,
              "solidity": 0.2
             }
            },
            "type": "bar"
           }
          ],
          "barpolar": [
           {
            "marker": {
             "line": {
              "color": "rgb(17,17,17)",
              "width": 0.5
             },
             "pattern": {
              "fillmode": "overlay",
              "size": 10,
              "solidity": 0.2
             }
            },
            "type": "barpolar"
           }
          ],
          "carpet": [
           {
            "aaxis": {
             "endlinecolor": "#A2B1C6",
             "gridcolor": "#506784",
             "linecolor": "#506784",
             "minorgridcolor": "#506784",
             "startlinecolor": "#A2B1C6"
            },
            "baxis": {
             "endlinecolor": "#A2B1C6",
             "gridcolor": "#506784",
             "linecolor": "#506784",
             "minorgridcolor": "#506784",
             "startlinecolor": "#A2B1C6"
            },
            "type": "carpet"
           }
          ],
          "choropleth": [
           {
            "colorbar": {
             "outlinewidth": 0,
             "ticks": ""
            },
            "type": "choropleth"
           }
          ],
          "contour": [
           {
            "colorbar": {
             "outlinewidth": 0,
             "ticks": ""
            },
            "colorscale": [
             [
              0,
              "#0d0887"
             ],
             [
              0.1111111111111111,
              "#46039f"
             ],
             [
              0.2222222222222222,
              "#7201a8"
             ],
             [
              0.3333333333333333,
              "#9c179e"
             ],
             [
              0.4444444444444444,
              "#bd3786"
             ],
             [
              0.5555555555555556,
              "#d8576b"
             ],
             [
              0.6666666666666666,
              "#ed7953"
             ],
             [
              0.7777777777777778,
              "#fb9f3a"
             ],
             [
              0.8888888888888888,
              "#fdca26"
             ],
             [
              1,
              "#f0f921"
             ]
            ],
            "type": "contour"
           }
          ],
          "contourcarpet": [
           {
            "colorbar": {
             "outlinewidth": 0,
             "ticks": ""
            },
            "type": "contourcarpet"
           }
          ],
          "heatmap": [
           {
            "colorbar": {
             "outlinewidth": 0,
             "ticks": ""
            },
            "colorscale": [
             [
              0,
              "#0d0887"
             ],
             [
              0.1111111111111111,
              "#46039f"
             ],
             [
              0.2222222222222222,
              "#7201a8"
             ],
             [
              0.3333333333333333,
              "#9c179e"
             ],
             [
              0.4444444444444444,
              "#bd3786"
             ],
             [
              0.5555555555555556,
              "#d8576b"
             ],
             [
              0.6666666666666666,
              "#ed7953"
             ],
             [
              0.7777777777777778,
              "#fb9f3a"
             ],
             [
              0.8888888888888888,
              "#fdca26"
             ],
             [
              1,
              "#f0f921"
             ]
            ],
            "type": "heatmap"
           }
          ],
          "heatmapgl": [
           {
            "colorbar": {
             "outlinewidth": 0,
             "ticks": ""
            },
            "colorscale": [
             [
              0,
              "#0d0887"
             ],
             [
              0.1111111111111111,
              "#46039f"
             ],
             [
              0.2222222222222222,
              "#7201a8"
             ],
             [
              0.3333333333333333,
              "#9c179e"
             ],
             [
              0.4444444444444444,
              "#bd3786"
             ],
             [
              0.5555555555555556,
              "#d8576b"
             ],
             [
              0.6666666666666666,
              "#ed7953"
             ],
             [
              0.7777777777777778,
              "#fb9f3a"
             ],
             [
              0.8888888888888888,
              "#fdca26"
             ],
             [
              1,
              "#f0f921"
             ]
            ],
            "type": "heatmapgl"
           }
          ],
          "histogram": [
           {
            "marker": {
             "pattern": {
              "fillmode": "overlay",
              "size": 10,
              "solidity": 0.2
             }
            },
            "type": "histogram"
           }
          ],
          "histogram2d": [
           {
            "colorbar": {
             "outlinewidth": 0,
             "ticks": ""
            },
            "colorscale": [
             [
              0,
              "#0d0887"
             ],
             [
              0.1111111111111111,
              "#46039f"
             ],
             [
              0.2222222222222222,
              "#7201a8"
             ],
             [
              0.3333333333333333,
              "#9c179e"
             ],
             [
              0.4444444444444444,
              "#bd3786"
             ],
             [
              0.5555555555555556,
              "#d8576b"
             ],
             [
              0.6666666666666666,
              "#ed7953"
             ],
             [
              0.7777777777777778,
              "#fb9f3a"
             ],
             [
              0.8888888888888888,
              "#fdca26"
             ],
             [
              1,
              "#f0f921"
             ]
            ],
            "type": "histogram2d"
           }
          ],
          "histogram2dcontour": [
           {
            "colorbar": {
             "outlinewidth": 0,
             "ticks": ""
            },
            "colorscale": [
             [
              0,
              "#0d0887"
             ],
             [
              0.1111111111111111,
              "#46039f"
             ],
             [
              0.2222222222222222,
              "#7201a8"
             ],
             [
              0.3333333333333333,
              "#9c179e"
             ],
             [
              0.4444444444444444,
              "#bd3786"
             ],
             [
              0.5555555555555556,
              "#d8576b"
             ],
             [
              0.6666666666666666,
              "#ed7953"
             ],
             [
              0.7777777777777778,
              "#fb9f3a"
             ],
             [
              0.8888888888888888,
              "#fdca26"
             ],
             [
              1,
              "#f0f921"
             ]
            ],
            "type": "histogram2dcontour"
           }
          ],
          "mesh3d": [
           {
            "colorbar": {
             "outlinewidth": 0,
             "ticks": ""
            },
            "type": "mesh3d"
           }
          ],
          "parcoords": [
           {
            "line": {
             "colorbar": {
              "outlinewidth": 0,
              "ticks": ""
             }
            },
            "type": "parcoords"
           }
          ],
          "pie": [
           {
            "automargin": true,
            "type": "pie"
           }
          ],
          "scatter": [
           {
            "marker": {
             "line": {
              "color": "#283442"
             }
            },
            "type": "scatter"
           }
          ],
          "scatter3d": [
           {
            "line": {
             "colorbar": {
              "outlinewidth": 0,
              "ticks": ""
             }
            },
            "marker": {
             "colorbar": {
              "outlinewidth": 0,
              "ticks": ""
             }
            },
            "type": "scatter3d"
           }
          ],
          "scattercarpet": [
           {
            "marker": {
             "colorbar": {
              "outlinewidth": 0,
              "ticks": ""
             }
            },
            "type": "scattercarpet"
           }
          ],
          "scattergeo": [
           {
            "marker": {
             "colorbar": {
              "outlinewidth": 0,
              "ticks": ""
             }
            },
            "type": "scattergeo"
           }
          ],
          "scattergl": [
           {
            "marker": {
             "line": {
              "color": "#283442"
             }
            },
            "type": "scattergl"
           }
          ],
          "scattermapbox": [
           {
            "marker": {
             "colorbar": {
              "outlinewidth": 0,
              "ticks": ""
             }
            },
            "type": "scattermapbox"
           }
          ],
          "scatterpolar": [
           {
            "marker": {
             "colorbar": {
              "outlinewidth": 0,
              "ticks": ""
             }
            },
            "type": "scatterpolar"
           }
          ],
          "scatterpolargl": [
           {
            "marker": {
             "colorbar": {
              "outlinewidth": 0,
              "ticks": ""
             }
            },
            "type": "scatterpolargl"
           }
          ],
          "scatterternary": [
           {
            "marker": {
             "colorbar": {
              "outlinewidth": 0,
              "ticks": ""
             }
            },
            "type": "scatterternary"
           }
          ],
          "surface": [
           {
            "colorbar": {
             "outlinewidth": 0,
             "ticks": ""
            },
            "colorscale": [
             [
              0,
              "#0d0887"
             ],
             [
              0.1111111111111111,
              "#46039f"
             ],
             [
              0.2222222222222222,
              "#7201a8"
             ],
             [
              0.3333333333333333,
              "#9c179e"
             ],
             [
              0.4444444444444444,
              "#bd3786"
             ],
             [
              0.5555555555555556,
              "#d8576b"
             ],
             [
              0.6666666666666666,
              "#ed7953"
             ],
             [
              0.7777777777777778,
              "#fb9f3a"
             ],
             [
              0.8888888888888888,
              "#fdca26"
             ],
             [
              1,
              "#f0f921"
             ]
            ],
            "type": "surface"
           }
          ],
          "table": [
           {
            "cells": {
             "fill": {
              "color": "#506784"
             },
             "line": {
              "color": "rgb(17,17,17)"
             }
            },
            "header": {
             "fill": {
              "color": "#2a3f5f"
             },
             "line": {
              "color": "rgb(17,17,17)"
             }
            },
            "type": "table"
           }
          ]
         },
         "layout": {
          "annotationdefaults": {
           "arrowcolor": "#f2f5fa",
           "arrowhead": 0,
           "arrowwidth": 1
          },
          "autotypenumbers": "strict",
          "coloraxis": {
           "colorbar": {
            "outlinewidth": 0,
            "ticks": ""
           }
          },
          "colorscale": {
           "diverging": [
            [
             0,
             "#8e0152"
            ],
            [
             0.1,
             "#c51b7d"
            ],
            [
             0.2,
             "#de77ae"
            ],
            [
             0.3,
             "#f1b6da"
            ],
            [
             0.4,
             "#fde0ef"
            ],
            [
             0.5,
             "#f7f7f7"
            ],
            [
             0.6,
             "#e6f5d0"
            ],
            [
             0.7,
             "#b8e186"
            ],
            [
             0.8,
             "#7fbc41"
            ],
            [
             0.9,
             "#4d9221"
            ],
            [
             1,
             "#276419"
            ]
           ],
           "sequential": [
            [
             0,
             "#0d0887"
            ],
            [
             0.1111111111111111,
             "#46039f"
            ],
            [
             0.2222222222222222,
             "#7201a8"
            ],
            [
             0.3333333333333333,
             "#9c179e"
            ],
            [
             0.4444444444444444,
             "#bd3786"
            ],
            [
             0.5555555555555556,
             "#d8576b"
            ],
            [
             0.6666666666666666,
             "#ed7953"
            ],
            [
             0.7777777777777778,
             "#fb9f3a"
            ],
            [
             0.8888888888888888,
             "#fdca26"
            ],
            [
             1,
             "#f0f921"
            ]
           ],
           "sequentialminus": [
            [
             0,
             "#0d0887"
            ],
            [
             0.1111111111111111,
             "#46039f"
            ],
            [
             0.2222222222222222,
             "#7201a8"
            ],
            [
             0.3333333333333333,
             "#9c179e"
            ],
            [
             0.4444444444444444,
             "#bd3786"
            ],
            [
             0.5555555555555556,
             "#d8576b"
            ],
            [
             0.6666666666666666,
             "#ed7953"
            ],
            [
             0.7777777777777778,
             "#fb9f3a"
            ],
            [
             0.8888888888888888,
             "#fdca26"
            ],
            [
             1,
             "#f0f921"
            ]
           ]
          },
          "colorway": [
           "#636efa",
           "#EF553B",
           "#00cc96",
           "#ab63fa",
           "#FFA15A",
           "#19d3f3",
           "#FF6692",
           "#B6E880",
           "#FF97FF",
           "#FECB52"
          ],
          "font": {
           "color": "#f2f5fa"
          },
          "geo": {
           "bgcolor": "rgb(17,17,17)",
           "lakecolor": "rgb(17,17,17)",
           "landcolor": "rgb(17,17,17)",
           "showlakes": true,
           "showland": true,
           "subunitcolor": "#506784"
          },
          "hoverlabel": {
           "align": "left"
          },
          "hovermode": "closest",
          "mapbox": {
           "style": "dark"
          },
          "paper_bgcolor": "rgb(17,17,17)",
          "plot_bgcolor": "rgb(17,17,17)",
          "polar": {
           "angularaxis": {
            "gridcolor": "#506784",
            "linecolor": "#506784",
            "ticks": ""
           },
           "bgcolor": "rgb(17,17,17)",
           "radialaxis": {
            "gridcolor": "#506784",
            "linecolor": "#506784",
            "ticks": ""
           }
          },
          "scene": {
           "xaxis": {
            "backgroundcolor": "rgb(17,17,17)",
            "gridcolor": "#506784",
            "gridwidth": 2,
            "linecolor": "#506784",
            "showbackground": true,
            "ticks": "",
            "zerolinecolor": "#C8D4E3"
           },
           "yaxis": {
            "backgroundcolor": "rgb(17,17,17)",
            "gridcolor": "#506784",
            "gridwidth": 2,
            "linecolor": "#506784",
            "showbackground": true,
            "ticks": "",
            "zerolinecolor": "#C8D4E3"
           },
           "zaxis": {
            "backgroundcolor": "rgb(17,17,17)",
            "gridcolor": "#506784",
            "gridwidth": 2,
            "linecolor": "#506784",
            "showbackground": true,
            "ticks": "",
            "zerolinecolor": "#C8D4E3"
           }
          },
          "shapedefaults": {
           "line": {
            "color": "#f2f5fa"
           }
          },
          "sliderdefaults": {
           "bgcolor": "#C8D4E3",
           "bordercolor": "rgb(17,17,17)",
           "borderwidth": 1,
           "tickwidth": 0
          },
          "ternary": {
           "aaxis": {
            "gridcolor": "#506784",
            "linecolor": "#506784",
            "ticks": ""
           },
           "baxis": {
            "gridcolor": "#506784",
            "linecolor": "#506784",
            "ticks": ""
           },
           "bgcolor": "rgb(17,17,17)",
           "caxis": {
            "gridcolor": "#506784",
            "linecolor": "#506784",
            "ticks": ""
           }
          },
          "title": {
           "x": 0.05
          },
          "updatemenudefaults": {
           "bgcolor": "#506784",
           "borderwidth": 0
          },
          "xaxis": {
           "automargin": true,
           "gridcolor": "#283442",
           "linecolor": "#506784",
           "ticks": "",
           "title": {
            "standoff": 15
           },
           "zerolinecolor": "#283442",
           "zerolinewidth": 2
          },
          "yaxis": {
           "automargin": true,
           "gridcolor": "#283442",
           "linecolor": "#506784",
           "ticks": "",
           "title": {
            "standoff": 15
           },
           "zerolinecolor": "#283442",
           "zerolinewidth": 2
          }
         }
        },
        "title": {
         "text": "Calibration Curves with Uniform Buckets"
        },
        "width": 650,
        "xaxis": {
         "title": {
          "text": "Mean xG"
         }
        },
        "xaxis2": {
         "overlaying": "x",
         "showgrid": false,
         "showticklabels": false,
         "side": "top"
        },
        "yaxis": {
         "range": [
          0,
          1
         ],
         "title": {
          "text": "Fraction of Actual Goals"
         }
        },
        "yaxis2": {
         "overlaying": "y",
         "showgrid": false,
         "side": "right",
         "title": {
          "text": "Number of Shots"
         }
        }
       }
      }
     },
     "metadata": {},
     "output_type": "display_data"
    }
   ],
   "source": [
    "'''\n",
    "Set up dataloading\n",
    "'''\n",
    "tensor_data_test = torch.from_numpy(data).float()\n",
    "\n",
    "dataloader_test = torch.utils.data.DataLoader(\n",
    "    tensor_data_test,\n",
    "    batch_size=25,\n",
    "    shuffle=False,\n",
    "    drop_last=False,\n",
    "    num_workers=2)\n",
    "\n",
    "model.eval()\n",
    "\n",
    "y_test, predictions_test, sbxg_test = evaluate(model, dataloader_test)\n",
    "\n",
    "loss_score = skmetrics.log_loss(y_test, predictions_test)\n",
    "print('Testing Log-loss of Our Model: {:.4f}'.format(loss_score))\n",
    "\n",
    "loss_score = skmetrics.log_loss(y_test, sbxg_test)\n",
    "print('Testing Log-loss of StatsBomb Model: {:.4f}'.format(loss_score))\n",
    "\n",
    "\n",
    "fig = go.Figure()\n",
    "fig.update_layout(template='plotly_dark')\n",
    "\n",
    "prob_true, prob_pred = calibration_curve(y_test, predictions_test, n_bins=10)\n",
    "fig.add_trace(go.Scatter(x=prob_pred, y=prob_true, mode='markers+lines', name='Our Model'))\n",
    "\n",
    "prob_true, prob_pred = calibration_curve(y_test, sbxg_test, n_bins=10)\n",
    "fig.add_trace(go.Scatter(x=prob_pred, y=prob_true, mode='markers+lines', name='StatsBomb'))\n",
    "\n",
    "fig.add_trace(go.Scatter(x=np.linspace(0, 1, 10), y=np.linspace(0, 1, 10), mode='lines', line=dict(dash='dash'), name='Perfect Calibration'))\n",
    "\n",
    "predictions_test_binned = np.digitize(predictions_test, bins=np.linspace(0, 1, 11)) - 1\n",
    "bin_labels = [f\"{(i / 10)}\" for i in range(1,11)]\n",
    "bin_counts = np.bincount(predictions_test_binned, minlength=10)\n",
    "\n",
    "fig.add_trace(go.Bar(x=bin_labels, y=bin_counts, name=\"Our Model's Number of Shots per Bucket\", yaxis='y2', xaxis='x2', opacity=0.5))\n",
    "\n",
    "sbxg_test_binned = np.digitize(sbxg_test, bins=np.linspace(0, 1, 11)) - 1\n",
    "bin_labels = [f\"{(i / 10)}\" for i in range(1,11)]\n",
    "bin_counts = np.bincount(sbxg_test_binned, minlength=10)\n",
    "\n",
    "fig.add_trace(go.Bar(x=bin_labels, y=bin_counts, name=\"StatsBomb Model's Number of Shots per Bucket\", yaxis='y2', xaxis='x2', opacity=0.5))\n",
    "\n",
    "fig.update_layout(\n",
    "    title='Calibration Curves with Uniform Buckets',\n",
    "    xaxis_title='Mean xG',\n",
    "    yaxis={\n",
    "        'range': [0, 1],\n",
    "        'title': 'Fraction of Actual Goals'\n",
    "    },\n",
    "    yaxis2={\n",
    "        'title': 'Number of Shots',\n",
    "        'overlaying': 'y',\n",
    "        'side': 'right',\n",
    "        'showgrid':False,\n",
    "    },\n",
    "    xaxis2={\n",
    "        'overlaying': 'x',\n",
    "        'side': 'top',\n",
    "        'showgrid':False,\n",
    "        'showticklabels':False\n",
    "    },\n",
    "    legend=dict(\n",
    "        orientation='h',  \n",
    "    ),\n",
    "    width=650,\n",
    "    height=650\n",
    ")\n",
    "\n",
    "fig.show()\n"
   ]
  }
 ],
 "metadata": {
  "kernelspec": {
   "display_name": "myenv",
   "language": "python",
   "name": "python3"
  },
  "language_info": {
   "codemirror_mode": {
    "name": "ipython",
    "version": 3
   },
   "file_extension": ".py",
   "mimetype": "text/x-python",
   "name": "python",
   "nbconvert_exporter": "python",
   "pygments_lexer": "ipython3",
   "version": "3.12.1"
  },
  "orig_nbformat": 4,
  "vscode": {
   "interpreter": {
    "hash": "0b6471029c46d78c53deab5251606b2fd3273a55e340daa2ce8724a62eb4e9af"
   }
  }
 },
 "nbformat": 4,
 "nbformat_minor": 2
}

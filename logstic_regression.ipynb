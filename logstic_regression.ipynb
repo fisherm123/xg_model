{
 "cells": [
  {
   "cell_type": "code",
   "execution_count": 29,
   "metadata": {},
   "outputs": [],
   "source": [
    "import numpy as np\n",
    "import warnings\n",
    "import time\n",
    "import sklearn.metrics as skmetrics\n",
    "from sklearn.calibration import calibration_curve\n",
    "import plotly.graph_objects as go\n",
    "\n",
    "warnings.filterwarnings(action='ignore')"
   ]
  },
  {
   "cell_type": "code",
   "execution_count": 4,
   "metadata": {},
   "outputs": [],
   "source": [
    "class Optimizer(object):\n",
    "\n",
    "    def __init__(self, alpha, eta_decay_factor, optimizer_type):\n",
    "        '''\n",
    "        Arg(s):\n",
    "            alpha : float\n",
    "                initial learning rate \n",
    "            eta_decay_factor : float\n",
    "                learning rate decay rate\n",
    "            optimizer_type : str\n",
    "                'gradient_descent',\n",
    "                'stochastic_gradient_descent',\n",
    "        '''\n",
    "\n",
    "        self.__alpha = alpha\n",
    "        self.__eta_decay_factor = eta_decay_factor\n",
    "        self.__optimizer_type = optimizer_type\n",
    "\n",
    "    def __compute_gradients(self, w, x, y, loss_func='logistic'):\n",
    "        '''\n",
    "        Returns the gradient of a loss function\n",
    "\n",
    "        Arg(s):\n",
    "            w : numpy[float32]\n",
    "                d x 1 weight vector\n",
    "            x : numpy[float32]\n",
    "                d x N feature vector\n",
    "            y : numpy[float32]\n",
    "                1 x N groundtruth vector\n",
    "            loss_func : str\n",
    "                loss by default is 'logistic' only for the purpose of the assignment\n",
    "        Returns:\n",
    "            numpy[float32] : d x 1 gradients\n",
    "        '''\n",
    "\n",
    "        if loss_func == 'logistic':\n",
    "            p = 1 / (1 + np.exp(-1 * y * np.matmul(w.T, x)))\n",
    "            return -1 * np.mean(y * x * (1 - p), axis=1).reshape(w.shape)\n",
    "        else:\n",
    "            raise ValueError('Unupported loss function: {}'.format(loss_func))\n",
    "\n",
    "    def __polynomial_decay(self, time_step):\n",
    "        '''\n",
    "        Computes the polynomial decay factor t^{-a}\n",
    "\n",
    "        Arg(s):\n",
    "            time_step : int\n",
    "                current step in optimization\n",
    "        Returns:\n",
    "            float : polynomial decay to adjust learning rate\n",
    "        '''\n",
    "\n",
    "        return np.power(1 / time_step, (self.__eta_decay_factor))\n",
    "\n",
    "    def update(self,\n",
    "               w,\n",
    "               x,\n",
    "               y,\n",
    "               loss_func,\n",
    "               batch_size,\n",
    "               time_step):\n",
    "        '''\n",
    "        Updates the weight vector based on\n",
    "\n",
    "        Arg(s):\n",
    "            w : numpy[float32]\n",
    "                d x 1 weight vector\n",
    "            x : numpy[float32]\n",
    "                d x N feature vector\n",
    "            y : numpy[float32]\n",
    "                1 x N groundtruth vector\n",
    "            loss_func : str\n",
    "                loss function to use, should be 'logistic' for the purpose of the assignment\n",
    "            batch_size : int\n",
    "                batch size for stochastic and momentum stochastic gradient descent\n",
    "            time_step : int\n",
    "                current step in optimization\n",
    "        Returns:\n",
    "            numpy[float32]: d x 1 weights\n",
    "        '''\n",
    "\n",
    "        if self.__optimizer_type == 'gradient_descent':\n",
    "            return w - self.__alpha * self.__compute_gradients(w, x, y, loss_func)\n",
    "        elif self.__optimizer_type == 'stochastic_gradient_descent':\n",
    "            batch_idx = np.random.choice(x.shape[1], batch_size)\n",
    "            return w - self.__polynomial_decay(time_step) * self.__alpha * self.__compute_gradients(w, x[:,batch_idx], y[batch_idx], loss_func)\n",
    "        else:\n",
    "            raise ValueError('Unsupported optimizer type: {}'.format(self.__optimizer_type))\n"
   ]
  },
  {
   "cell_type": "code",
   "execution_count": 204,
   "metadata": {},
   "outputs": [],
   "source": [
    "class LogisticRegression(object):\n",
    "\n",
    "    def __init__(self):\n",
    "        # Define private variables\n",
    "        self.__weights = None\n",
    "        self.__optimizer = None\n",
    "\n",
    "    def fit(self,\n",
    "            x,\n",
    "            y,\n",
    "            T,\n",
    "            alpha,\n",
    "            eta_decay_factor,\n",
    "            batch_size,\n",
    "            optimizer_type,\n",
    "            loss_func='logistic'):\n",
    "        '''\n",
    "        Fits the model to x and y by updating the weight vector\n",
    "        using gradient descent\n",
    "\n",
    "        Arg(s):\n",
    "            x : numpy[float32]\n",
    "                d x N feature vector\n",
    "            y : numpy[float32]\n",
    "                1 x N groundtruth vector\n",
    "            T : int\n",
    "                number of iterations to train\n",
    "            alpha : float\n",
    "                learning rate\n",
    "            eta_decay_factor : float\n",
    "                learning rate decay rate\n",
    "            batch_size : int\n",
    "                number of examples per batch\n",
    "            optimizer_type : str\n",
    "                'gradient_descent',\n",
    "                'momentum_gradient_descent',\n",
    "                'stochastic_gradient_descent',\n",
    "                'momentum_stochastic_gradient_descent'\n",
    "            loss_func : str\n",
    "                loss function to use, by default is 'logistic' only for the purpose of the assignment\n",
    "        '''\n",
    "\n",
    "        self.__optimizer = Optimizer(alpha, eta_decay_factor, optimizer_type)\n",
    "\n",
    "        self.__weights = np.zeros([x.shape[0], 1])\n",
    "\n",
    "        for t in range(1, T + 1):\n",
    "\n",
    "            loss = self.__compute_loss(x, y, loss_func)\n",
    "            if (t % 100) == 0:\n",
    "                print('Step={}  Loss={}'.format(t, loss))\n",
    "\n",
    "            self.__weights = self.__optimizer.update(self.__weights, x, y, loss_func, batch_size, t)\n",
    "\n",
    "    def predict(self, x):\n",
    "        '''\n",
    "        Predicts the label for each feature vector x\n",
    "\n",
    "        Arg(s):\n",
    "            x : numpy[float32]\n",
    "                d x N feature vector\n",
    "        Returns:\n",
    "            numpy[float32] : 1 x N vector\n",
    "        '''\n",
    "\n",
    "        predictions = 1 / (1 + np.exp(-1 * np.matmul(self.__weights.T, x)))\n",
    "        return predictions.squeeze()\n",
    "\n",
    "    def __compute_loss(self, x, y, loss_func):\n",
    "        '''\n",
    "        Computes the logistic loss\n",
    "\n",
    "        Arg(s):\n",
    "            x : numpy[float32]\n",
    "                d x N feature vector\n",
    "            y : numpy[float32]\n",
    "                1 x N groundtruth vector\n",
    "            loss_func : str\n",
    "                loss function to use, by default is 'logistic' only for the purpose of the assignment\n",
    "        Returns:\n",
    "            float : loss\n",
    "        '''\n",
    "\n",
    "        if loss_func == 'logistic':\n",
    "            loss = np.mean(np.log(1 + np.exp(-1 * y * np.matmul(self.__weights.T, x))))\n",
    "        else:\n",
    "            raise ValueError('Unsupported loss function: {}'.format(loss_func))\n",
    "\n",
    "        return loss"
   ]
  },
  {
   "cell_type": "code",
   "execution_count": 199,
   "metadata": {},
   "outputs": [],
   "source": [
    "data = np.vectorize(float)(np.load('data/shots.npy', allow_pickle=True))\n",
    "\n",
    "#separate StatsBomb xG, groundtruth, and feature vectors\n",
    "sbxg = data[:, 0]\n",
    "y = data[:, 1]\n",
    "x = data[:, 2:]\n",
    "\n",
    "#get random indices for train, val, test splits\n",
    "shuffled_indices = np.random.permutation(x.shape[0])\n",
    "train_split_idx = int(0.60 * x.shape[0])\n",
    "val_split_idx = int(0.80 * x.shape[0])\n",
    "\n",
    "train_indices = shuffled_indices[0:train_split_idx]\n",
    "val_indices = shuffled_indices[train_split_idx:val_split_idx]\n",
    "test_indices = shuffled_indices[val_split_idx:]\n",
    "\n",
    "#separate dataset into train, val, test splits\n",
    "x_train, y_train, sbxg_train = x[train_indices, :], y[train_indices], sbxg[train_indices]\n",
    "x_val, y_val, sbxg_val = x[val_indices, :], y[val_indices], sbxg[val_indices]\n",
    "x_test, y_test, sbxg_test = x[test_indices, :], y[test_indices], sbxg[test_indices]\n",
    "\n",
    "#format dataset into dXN and 1xN matrices as our logistic regression model expects\n",
    "x_train = np.transpose(x_train, axes=(1, 0))\n",
    "x_val = np.transpose(x_val, axes=(1, 0))\n",
    "x_test = np.transpose(x_test, axes=(1, 0))\n",
    "y_train = np.expand_dims(y_train, axis=0)\n",
    "y_val = np.expand_dims(y_val, axis=0)\n",
    "y_test = np.expand_dims(y_test, axis=0)\n",
    "\n",
    "y_train = y_train[0]\n",
    "y_val = y_val[0]\n",
    "y_test = y_test[0]"
   ]
  },
  {
   "cell_type": "code",
   "execution_count": 208,
   "metadata": {},
   "outputs": [
    {
     "name": "stdout",
     "output_type": "stream",
     "text": [
      "Step=100  Loss=0.3152971177277413\n",
      "Step=200  Loss=0.31130426221433544\n",
      "Step=300  Loss=0.30915312835200104\n",
      "Step=400  Loss=0.3074348759903227\n",
      "Step=500  Loss=0.3067369260646113\n",
      "Step=600  Loss=0.304858131051275\n",
      "Step=700  Loss=0.30377123480275137\n",
      "Step=800  Loss=0.3028274671205623\n",
      "Step=900  Loss=0.3020110785720015\n",
      "Step=1000  Loss=0.3012537742901525\n",
      "Step=1100  Loss=0.30191408156654514\n",
      "Step=1200  Loss=0.3017153754445329\n",
      "Step=1300  Loss=0.29948225259137967\n",
      "Step=1400  Loss=0.29935913964340427\n",
      "Step=1500  Loss=0.2987484361480887\n",
      "Step=1600  Loss=0.29801535871008605\n",
      "Step=1700  Loss=0.2977197170100855\n",
      "Step=1800  Loss=0.29749015461193645\n",
      "Step=1900  Loss=0.29685527945640655\n",
      "Step=2000  Loss=0.2965319155090282\n",
      "Step=2100  Loss=0.2962893270590646\n",
      "Step=2200  Loss=0.29603688548649293\n",
      "Step=2300  Loss=0.2958371146503684\n",
      "Step=2400  Loss=0.2954251518210747\n",
      "Step=2500  Loss=0.29582918747911285\n",
      "Step=2600  Loss=0.295111402284817\n",
      "Step=2700  Loss=0.29476687220662684\n",
      "Step=2800  Loss=0.2945770110098994\n",
      "Step=2900  Loss=0.29435509560376716\n",
      "Step=3000  Loss=0.29417823862453146\n",
      "Step=3100  Loss=0.2946108680377003\n",
      "Step=3200  Loss=0.2940663765674795\n",
      "Step=3300  Loss=0.29365333148332695\n",
      "Step=3400  Loss=0.2937669541547817\n",
      "Step=3500  Loss=0.2934006267293579\n",
      "Step=3600  Loss=0.29339232217115246\n",
      "Step=3700  Loss=0.2931551039484785\n",
      "Step=3800  Loss=0.2931014042278758\n",
      "Step=3900  Loss=0.292986260583626\n",
      "Step=4000  Loss=0.29288223140155256\n",
      "Step=4100  Loss=0.29269691339912257\n",
      "Step=4200  Loss=0.2926877949911807\n",
      "Step=4300  Loss=0.293117951054341\n",
      "Step=4400  Loss=0.2925157282071347\n",
      "Step=4500  Loss=0.2937242947534822\n",
      "Step=4600  Loss=0.29218184629455984\n",
      "Step=4700  Loss=0.2921119515022224\n",
      "Step=4800  Loss=0.2922447099044418\n",
      "Step=4900  Loss=0.2919645661199893\n",
      "Step=5000  Loss=0.2918959385266619\n",
      "Step=5100  Loss=0.29186693415979587\n",
      "Step=5200  Loss=0.29172523558020585\n",
      "Step=5300  Loss=0.2921004391317375\n",
      "Step=5400  Loss=0.29166808424407314\n",
      "Step=5500  Loss=0.2916596575892078\n",
      "Step=5600  Loss=0.29175250152988036\n",
      "Step=5700  Loss=0.29148986205010113\n",
      "Step=5800  Loss=0.29148205828634793\n",
      "Step=5900  Loss=0.2913152567427734\n",
      "Step=6000  Loss=0.29129959875651146\n",
      "[[ 0.05138555]\n",
      " [ 0.00105715]\n",
      " [-0.00065935]\n",
      " [-0.00021757]\n",
      " [ 0.00034012]\n",
      " [-0.05441108]\n",
      " [-0.00558234]\n",
      " [ 0.02972964]\n",
      " [-0.00098551]\n",
      " [ 0.01570647]\n",
      " [ 0.00215256]\n",
      " [-0.00480014]\n",
      " [ 0.00495451]\n",
      " [-0.00561795]\n",
      " [ 0.00036879]\n",
      " [-0.00380892]\n",
      " [-0.00148033]\n",
      " [-0.0055906 ]\n",
      " [ 0.00265074]\n",
      " [-0.00495077]\n",
      " [-0.00076354]\n",
      " [-0.00379574]\n",
      " [-0.00266636]\n",
      " [-0.00156884]\n",
      " [ 0.00104619]\n",
      " [ 0.00350944]\n",
      " [-0.00304922]\n",
      " [ 0.00596639]\n",
      " [-0.00497505]\n",
      " [ 0.00072618]\n",
      " [-0.00058109]\n",
      " [-0.00082181]\n",
      " [-0.00242235]\n",
      " [ 0.0015722 ]\n",
      " [ 0.00084649]\n",
      " [-0.00290237]\n",
      " [-0.000617  ]\n",
      " [-0.00060849]\n",
      " [-0.00321099]\n",
      " [ 0.0016711 ]\n",
      " [-0.00440173]\n",
      " [-0.00517449]\n",
      " [-0.00732898]\n",
      " [-0.01245109]\n",
      " [-0.01144546]\n",
      " [-0.01769236]\n",
      " [-0.01190186]]\n",
      "Total training time: 42.090582 seconds\n",
      "Training Log-loss of Our Model: 0.2913\n",
      "Training Log-loss of StatsBomb Model: 0.2587\n",
      "Validation Log-loss of Our Model: 0.2958\n",
      "Validation Log-loss of StatsBomb Model: 0.2640\n",
      "Testing Log-loss of Our Model: 0.3050\n",
      "Testing Log-loss of StatsBomb Model: 0.2725\n"
     ]
    }
   ],
   "source": [
    "model_ours = LogisticRegression()\n",
    "\n",
    "time_start = time.time()\n",
    "\n",
    "model_ours.fit(x_train, \n",
    "               y_train, \n",
    "               T=6000, \n",
    "               alpha=8e-5, \n",
    "               eta_decay_factor=1e-6, \n",
    "               batch_size=8000, \n",
    "               optimizer_type='stochastic_gradient_descent')\n",
    "\n",
    "time_elapsed = time.time() - time_start\n",
    "print('Total training time: {:3f} seconds'.format(time_elapsed))\n",
    "\n",
    "predictions_train = model_ours.predict(x_train)\n",
    "loss_score = skmetrics.log_loss(y_train, predictions_train)\n",
    "print('Training Log-loss of Our Model: {:.4f}'.format(loss_score))\n",
    "\n",
    "loss_score = skmetrics.log_loss(y_train, sbxg_train)\n",
    "print('Training Log-loss of StatsBomb Model: {:.4f}'.format(loss_score))\n",
    "\n",
    "predictions_val = model_ours.predict(x_val)\n",
    "loss_score = skmetrics.log_loss(y_val, predictions_val)\n",
    "print('Validation Log-loss of Our Model: {:.4f}'.format(loss_score))\n",
    "\n",
    "loss_score = skmetrics.log_loss(y_val, sbxg_val)\n",
    "print('Validation Log-loss of StatsBomb Model: {:.4f}'.format(loss_score))\n",
    "\n",
    "predictions_test = model_ours.predict(x_test)\n",
    "loss_score = skmetrics.log_loss(y_test, predictions_test)\n",
    "print('Testing Log-loss of Our Model: {:.4f}'.format(loss_score))\n",
    "\n",
    "loss_score = skmetrics.log_loss(y_test, sbxg_test)\n",
    "print('Testing Log-loss of StatsBomb Model: {:.4f}'.format(loss_score))\n"
   ]
  },
  {
   "cell_type": "code",
   "execution_count": 206,
   "metadata": {},
   "outputs": [
    {
     "data": {
      "application/vnd.plotly.v1+json": {
       "config": {
        "plotlyServerURL": "https://plot.ly"
       },
       "data": [
        {
         "mode": "markers+lines",
         "name": "Our Model",
         "type": "scatter",
         "x": [
          0.015554351192372237,
          0.027651093898355857,
          0.039025045006459744,
          0.054389994159672335,
          0.07428712581072587,
          0.09512261690935353,
          0.11725044500736251,
          0.14162177213607174,
          0.17682668737288726,
          0.26717089073906986
         ],
         "y": [
          0.016294508147254073,
          0.036210018105009054,
          0.039831019915509955,
          0.05069402534701267,
          0.05793602896801448,
          0.08086904043452021,
          0.11345805672902837,
          0.1647555823777912,
          0.19674109837054918,
          0.31985515992757996
         ]
        },
        {
         "mode": "markers+lines",
         "name": "StatsBomb Model",
         "type": "scatter",
         "x": [
          0.009019854964091719,
          0.01962557720247433,
          0.027401130770066354,
          0.03634252830356059,
          0.04750440533977064,
          0.06099104513397711,
          0.07845405068617982,
          0.10761951883826186,
          0.17240461924562442,
          0.4066973518587806
         ],
         "y": [
          0.02172601086300543,
          0.01388050694025347,
          0.030175015087507542,
          0.03198551599275799,
          0.04164152082076041,
          0.07242003621001811,
          0.08147254073627037,
          0.13095956547978274,
          0.2112251056125528,
          0.4411587205793603
         ]
        },
        {
         "line": {
          "dash": "dash"
         },
         "mode": "lines",
         "name": "Perfect Calibration",
         "type": "scatter",
         "x": [
          0,
          0.1111111111111111,
          0.2222222222222222,
          0.3333333333333333,
          0.4444444444444444,
          0.5555555555555556,
          0.6666666666666666,
          0.7777777777777777,
          0.8888888888888888,
          1
         ],
         "y": [
          0,
          0.1111111111111111,
          0.2222222222222222,
          0.3333333333333333,
          0.4444444444444444,
          0.5555555555555556,
          0.6666666666666666,
          0.7777777777777777,
          0.8888888888888888,
          1
         ]
        }
       ],
       "layout": {
        "height": 600,
        "legend": {
         "orientation": "h",
         "x": 1,
         "xanchor": "right",
         "y": 1,
         "yanchor": "bottom"
        },
        "template": {
         "data": {
          "bar": [
           {
            "error_x": {
             "color": "#f2f5fa"
            },
            "error_y": {
             "color": "#f2f5fa"
            },
            "marker": {
             "line": {
              "color": "rgb(17,17,17)",
              "width": 0.5
             },
             "pattern": {
              "fillmode": "overlay",
              "size": 10,
              "solidity": 0.2
             }
            },
            "type": "bar"
           }
          ],
          "barpolar": [
           {
            "marker": {
             "line": {
              "color": "rgb(17,17,17)",
              "width": 0.5
             },
             "pattern": {
              "fillmode": "overlay",
              "size": 10,
              "solidity": 0.2
             }
            },
            "type": "barpolar"
           }
          ],
          "carpet": [
           {
            "aaxis": {
             "endlinecolor": "#A2B1C6",
             "gridcolor": "#506784",
             "linecolor": "#506784",
             "minorgridcolor": "#506784",
             "startlinecolor": "#A2B1C6"
            },
            "baxis": {
             "endlinecolor": "#A2B1C6",
             "gridcolor": "#506784",
             "linecolor": "#506784",
             "minorgridcolor": "#506784",
             "startlinecolor": "#A2B1C6"
            },
            "type": "carpet"
           }
          ],
          "choropleth": [
           {
            "colorbar": {
             "outlinewidth": 0,
             "ticks": ""
            },
            "type": "choropleth"
           }
          ],
          "contour": [
           {
            "colorbar": {
             "outlinewidth": 0,
             "ticks": ""
            },
            "colorscale": [
             [
              0,
              "#0d0887"
             ],
             [
              0.1111111111111111,
              "#46039f"
             ],
             [
              0.2222222222222222,
              "#7201a8"
             ],
             [
              0.3333333333333333,
              "#9c179e"
             ],
             [
              0.4444444444444444,
              "#bd3786"
             ],
             [
              0.5555555555555556,
              "#d8576b"
             ],
             [
              0.6666666666666666,
              "#ed7953"
             ],
             [
              0.7777777777777778,
              "#fb9f3a"
             ],
             [
              0.8888888888888888,
              "#fdca26"
             ],
             [
              1,
              "#f0f921"
             ]
            ],
            "type": "contour"
           }
          ],
          "contourcarpet": [
           {
            "colorbar": {
             "outlinewidth": 0,
             "ticks": ""
            },
            "type": "contourcarpet"
           }
          ],
          "heatmap": [
           {
            "colorbar": {
             "outlinewidth": 0,
             "ticks": ""
            },
            "colorscale": [
             [
              0,
              "#0d0887"
             ],
             [
              0.1111111111111111,
              "#46039f"
             ],
             [
              0.2222222222222222,
              "#7201a8"
             ],
             [
              0.3333333333333333,
              "#9c179e"
             ],
             [
              0.4444444444444444,
              "#bd3786"
             ],
             [
              0.5555555555555556,
              "#d8576b"
             ],
             [
              0.6666666666666666,
              "#ed7953"
             ],
             [
              0.7777777777777778,
              "#fb9f3a"
             ],
             [
              0.8888888888888888,
              "#fdca26"
             ],
             [
              1,
              "#f0f921"
             ]
            ],
            "type": "heatmap"
           }
          ],
          "heatmapgl": [
           {
            "colorbar": {
             "outlinewidth": 0,
             "ticks": ""
            },
            "colorscale": [
             [
              0,
              "#0d0887"
             ],
             [
              0.1111111111111111,
              "#46039f"
             ],
             [
              0.2222222222222222,
              "#7201a8"
             ],
             [
              0.3333333333333333,
              "#9c179e"
             ],
             [
              0.4444444444444444,
              "#bd3786"
             ],
             [
              0.5555555555555556,
              "#d8576b"
             ],
             [
              0.6666666666666666,
              "#ed7953"
             ],
             [
              0.7777777777777778,
              "#fb9f3a"
             ],
             [
              0.8888888888888888,
              "#fdca26"
             ],
             [
              1,
              "#f0f921"
             ]
            ],
            "type": "heatmapgl"
           }
          ],
          "histogram": [
           {
            "marker": {
             "pattern": {
              "fillmode": "overlay",
              "size": 10,
              "solidity": 0.2
             }
            },
            "type": "histogram"
           }
          ],
          "histogram2d": [
           {
            "colorbar": {
             "outlinewidth": 0,
             "ticks": ""
            },
            "colorscale": [
             [
              0,
              "#0d0887"
             ],
             [
              0.1111111111111111,
              "#46039f"
             ],
             [
              0.2222222222222222,
              "#7201a8"
             ],
             [
              0.3333333333333333,
              "#9c179e"
             ],
             [
              0.4444444444444444,
              "#bd3786"
             ],
             [
              0.5555555555555556,
              "#d8576b"
             ],
             [
              0.6666666666666666,
              "#ed7953"
             ],
             [
              0.7777777777777778,
              "#fb9f3a"
             ],
             [
              0.8888888888888888,
              "#fdca26"
             ],
             [
              1,
              "#f0f921"
             ]
            ],
            "type": "histogram2d"
           }
          ],
          "histogram2dcontour": [
           {
            "colorbar": {
             "outlinewidth": 0,
             "ticks": ""
            },
            "colorscale": [
             [
              0,
              "#0d0887"
             ],
             [
              0.1111111111111111,
              "#46039f"
             ],
             [
              0.2222222222222222,
              "#7201a8"
             ],
             [
              0.3333333333333333,
              "#9c179e"
             ],
             [
              0.4444444444444444,
              "#bd3786"
             ],
             [
              0.5555555555555556,
              "#d8576b"
             ],
             [
              0.6666666666666666,
              "#ed7953"
             ],
             [
              0.7777777777777778,
              "#fb9f3a"
             ],
             [
              0.8888888888888888,
              "#fdca26"
             ],
             [
              1,
              "#f0f921"
             ]
            ],
            "type": "histogram2dcontour"
           }
          ],
          "mesh3d": [
           {
            "colorbar": {
             "outlinewidth": 0,
             "ticks": ""
            },
            "type": "mesh3d"
           }
          ],
          "parcoords": [
           {
            "line": {
             "colorbar": {
              "outlinewidth": 0,
              "ticks": ""
             }
            },
            "type": "parcoords"
           }
          ],
          "pie": [
           {
            "automargin": true,
            "type": "pie"
           }
          ],
          "scatter": [
           {
            "marker": {
             "line": {
              "color": "#283442"
             }
            },
            "type": "scatter"
           }
          ],
          "scatter3d": [
           {
            "line": {
             "colorbar": {
              "outlinewidth": 0,
              "ticks": ""
             }
            },
            "marker": {
             "colorbar": {
              "outlinewidth": 0,
              "ticks": ""
             }
            },
            "type": "scatter3d"
           }
          ],
          "scattercarpet": [
           {
            "marker": {
             "colorbar": {
              "outlinewidth": 0,
              "ticks": ""
             }
            },
            "type": "scattercarpet"
           }
          ],
          "scattergeo": [
           {
            "marker": {
             "colorbar": {
              "outlinewidth": 0,
              "ticks": ""
             }
            },
            "type": "scattergeo"
           }
          ],
          "scattergl": [
           {
            "marker": {
             "line": {
              "color": "#283442"
             }
            },
            "type": "scattergl"
           }
          ],
          "scattermapbox": [
           {
            "marker": {
             "colorbar": {
              "outlinewidth": 0,
              "ticks": ""
             }
            },
            "type": "scattermapbox"
           }
          ],
          "scatterpolar": [
           {
            "marker": {
             "colorbar": {
              "outlinewidth": 0,
              "ticks": ""
             }
            },
            "type": "scatterpolar"
           }
          ],
          "scatterpolargl": [
           {
            "marker": {
             "colorbar": {
              "outlinewidth": 0,
              "ticks": ""
             }
            },
            "type": "scatterpolargl"
           }
          ],
          "scatterternary": [
           {
            "marker": {
             "colorbar": {
              "outlinewidth": 0,
              "ticks": ""
             }
            },
            "type": "scatterternary"
           }
          ],
          "surface": [
           {
            "colorbar": {
             "outlinewidth": 0,
             "ticks": ""
            },
            "colorscale": [
             [
              0,
              "#0d0887"
             ],
             [
              0.1111111111111111,
              "#46039f"
             ],
             [
              0.2222222222222222,
              "#7201a8"
             ],
             [
              0.3333333333333333,
              "#9c179e"
             ],
             [
              0.4444444444444444,
              "#bd3786"
             ],
             [
              0.5555555555555556,
              "#d8576b"
             ],
             [
              0.6666666666666666,
              "#ed7953"
             ],
             [
              0.7777777777777778,
              "#fb9f3a"
             ],
             [
              0.8888888888888888,
              "#fdca26"
             ],
             [
              1,
              "#f0f921"
             ]
            ],
            "type": "surface"
           }
          ],
          "table": [
           {
            "cells": {
             "fill": {
              "color": "#506784"
             },
             "line": {
              "color": "rgb(17,17,17)"
             }
            },
            "header": {
             "fill": {
              "color": "#2a3f5f"
             },
             "line": {
              "color": "rgb(17,17,17)"
             }
            },
            "type": "table"
           }
          ]
         },
         "layout": {
          "annotationdefaults": {
           "arrowcolor": "#f2f5fa",
           "arrowhead": 0,
           "arrowwidth": 1
          },
          "autotypenumbers": "strict",
          "coloraxis": {
           "colorbar": {
            "outlinewidth": 0,
            "ticks": ""
           }
          },
          "colorscale": {
           "diverging": [
            [
             0,
             "#8e0152"
            ],
            [
             0.1,
             "#c51b7d"
            ],
            [
             0.2,
             "#de77ae"
            ],
            [
             0.3,
             "#f1b6da"
            ],
            [
             0.4,
             "#fde0ef"
            ],
            [
             0.5,
             "#f7f7f7"
            ],
            [
             0.6,
             "#e6f5d0"
            ],
            [
             0.7,
             "#b8e186"
            ],
            [
             0.8,
             "#7fbc41"
            ],
            [
             0.9,
             "#4d9221"
            ],
            [
             1,
             "#276419"
            ]
           ],
           "sequential": [
            [
             0,
             "#0d0887"
            ],
            [
             0.1111111111111111,
             "#46039f"
            ],
            [
             0.2222222222222222,
             "#7201a8"
            ],
            [
             0.3333333333333333,
             "#9c179e"
            ],
            [
             0.4444444444444444,
             "#bd3786"
            ],
            [
             0.5555555555555556,
             "#d8576b"
            ],
            [
             0.6666666666666666,
             "#ed7953"
            ],
            [
             0.7777777777777778,
             "#fb9f3a"
            ],
            [
             0.8888888888888888,
             "#fdca26"
            ],
            [
             1,
             "#f0f921"
            ]
           ],
           "sequentialminus": [
            [
             0,
             "#0d0887"
            ],
            [
             0.1111111111111111,
             "#46039f"
            ],
            [
             0.2222222222222222,
             "#7201a8"
            ],
            [
             0.3333333333333333,
             "#9c179e"
            ],
            [
             0.4444444444444444,
             "#bd3786"
            ],
            [
             0.5555555555555556,
             "#d8576b"
            ],
            [
             0.6666666666666666,
             "#ed7953"
            ],
            [
             0.7777777777777778,
             "#fb9f3a"
            ],
            [
             0.8888888888888888,
             "#fdca26"
            ],
            [
             1,
             "#f0f921"
            ]
           ]
          },
          "colorway": [
           "#636efa",
           "#EF553B",
           "#00cc96",
           "#ab63fa",
           "#FFA15A",
           "#19d3f3",
           "#FF6692",
           "#B6E880",
           "#FF97FF",
           "#FECB52"
          ],
          "font": {
           "color": "#f2f5fa"
          },
          "geo": {
           "bgcolor": "rgb(17,17,17)",
           "lakecolor": "rgb(17,17,17)",
           "landcolor": "rgb(17,17,17)",
           "showlakes": true,
           "showland": true,
           "subunitcolor": "#506784"
          },
          "hoverlabel": {
           "align": "left"
          },
          "hovermode": "closest",
          "mapbox": {
           "style": "dark"
          },
          "paper_bgcolor": "rgb(17,17,17)",
          "plot_bgcolor": "rgb(17,17,17)",
          "polar": {
           "angularaxis": {
            "gridcolor": "#506784",
            "linecolor": "#506784",
            "ticks": ""
           },
           "bgcolor": "rgb(17,17,17)",
           "radialaxis": {
            "gridcolor": "#506784",
            "linecolor": "#506784",
            "ticks": ""
           }
          },
          "scene": {
           "xaxis": {
            "backgroundcolor": "rgb(17,17,17)",
            "gridcolor": "#506784",
            "gridwidth": 2,
            "linecolor": "#506784",
            "showbackground": true,
            "ticks": "",
            "zerolinecolor": "#C8D4E3"
           },
           "yaxis": {
            "backgroundcolor": "rgb(17,17,17)",
            "gridcolor": "#506784",
            "gridwidth": 2,
            "linecolor": "#506784",
            "showbackground": true,
            "ticks": "",
            "zerolinecolor": "#C8D4E3"
           },
           "zaxis": {
            "backgroundcolor": "rgb(17,17,17)",
            "gridcolor": "#506784",
            "gridwidth": 2,
            "linecolor": "#506784",
            "showbackground": true,
            "ticks": "",
            "zerolinecolor": "#C8D4E3"
           }
          },
          "shapedefaults": {
           "line": {
            "color": "#f2f5fa"
           }
          },
          "sliderdefaults": {
           "bgcolor": "#C8D4E3",
           "bordercolor": "rgb(17,17,17)",
           "borderwidth": 1,
           "tickwidth": 0
          },
          "ternary": {
           "aaxis": {
            "gridcolor": "#506784",
            "linecolor": "#506784",
            "ticks": ""
           },
           "baxis": {
            "gridcolor": "#506784",
            "linecolor": "#506784",
            "ticks": ""
           },
           "bgcolor": "rgb(17,17,17)",
           "caxis": {
            "gridcolor": "#506784",
            "linecolor": "#506784",
            "ticks": ""
           }
          },
          "title": {
           "x": 0.05
          },
          "updatemenudefaults": {
           "bgcolor": "#506784",
           "borderwidth": 0
          },
          "xaxis": {
           "automargin": true,
           "gridcolor": "#283442",
           "linecolor": "#506784",
           "ticks": "",
           "title": {
            "standoff": 15
           },
           "zerolinecolor": "#283442",
           "zerolinewidth": 2
          },
          "yaxis": {
           "automargin": true,
           "gridcolor": "#283442",
           "linecolor": "#506784",
           "ticks": "",
           "title": {
            "standoff": 15
           },
           "zerolinecolor": "#283442",
           "zerolinewidth": 2
          }
         }
        },
        "title": {
         "text": "Calibration Curves with Quantile Buckets"
        },
        "width": 600,
        "xaxis": {
         "title": {
          "text": "Mean xG"
         }
        },
        "yaxis": {
         "title": {
          "text": "Fraction of Actual Goals"
         }
        }
       }
      }
     },
     "metadata": {},
     "output_type": "display_data"
    }
   ],
   "source": [
    "fig = go.Figure()\n",
    "fig.update_layout(template='plotly_dark')\n",
    "\n",
    "#plot calibration curve for our model with 10 quantile buckets (each bucket has the same number of predictions)\n",
    "prob_true, prob_pred = calibration_curve(y_test, predictions_test, n_bins=10, strategy='quantile')\n",
    "fig.add_trace(go.Scatter(x=prob_pred, y=prob_true, mode='markers+lines', name='Our Model'))\n",
    "\n",
    "#plot calibration curve for StatsBomb model with 10 quantile buckets (each bucket has the same number of predictions)\n",
    "prob_true, prob_pred = calibration_curve(y_test, sbxg_test, n_bins=10, strategy='quantile')\n",
    "fig.add_trace(go.Scatter(x=prob_pred, y=prob_true, mode='markers+lines', name='StatsBomb Model'))\n",
    "\n",
    "#plot perfect calibration curve\n",
    "fig.add_trace(go.Scatter(x=np.linspace(0, 1, 10), y=np.linspace(0, 1, 10), mode='lines', line=dict(dash='dash'), name='Perfect Calibration'))\n",
    "\n",
    "fig.update_layout(\n",
    "    title='Calibration Curves with Quantile Buckets',\n",
    "    xaxis_title='Mean xG',\n",
    "    yaxis_title='Fraction of Actual Goals',\n",
    "    legend=dict(\n",
    "        orientation='h',\n",
    "        yanchor='bottom',\n",
    "        y=1,\n",
    "        xanchor='right',\n",
    "        x=1\n",
    "    ),\n",
    "    width=600,\n",
    "    height=600\n",
    ")\n",
    "\n",
    "fig.show()"
   ]
  },
  {
   "cell_type": "code",
   "execution_count": 207,
   "metadata": {},
   "outputs": [
    {
     "data": {
      "application/vnd.plotly.v1+json": {
       "config": {
        "plotlyServerURL": "https://plot.ly"
       },
       "data": [
        {
         "mode": "markers+lines",
         "name": "Our Model",
         "type": "scatter",
         "x": [
          0.048677666631321656,
          0.1415930644229007,
          0.2379287709784562,
          0.33656892920570597,
          0.43466836326461455,
          0.5430276056680082,
          0.6226590710191898,
          0.7626643950644669,
          0.8272058917354346,
          0.9257700087932647
         ],
         "y": [
          0.04539722572509458,
          0.15216986403427082,
          0.28540305010893247,
          0.44871794871794873,
          0.5609756097560976,
          0.5,
          0.3333333333333333,
          0,
          0.4444444444444444,
          0.6666666666666666
         ]
        },
        {
         "mode": "markers+lines",
         "name": "StatsBomb",
         "type": "scatter",
         "x": [
          0.042360544541965375,
          0.13882863854334296,
          0.24367012469525967,
          0.34813692331223645,
          0.4455969909271523,
          0.5452314027777779,
          0.6502376674683544,
          0.7441342659459459,
          0.8482086245454546,
          0.9328530570588236
         ],
         "y": [
          0.04505394942755951,
          0.1758606387391124,
          0.27200902934537247,
          0.35654008438818563,
          0.49337748344370863,
          0.5679012345679012,
          0.7468354430379747,
          0.8918918918918919,
          0.8409090909090909,
          0.9705882352941176
         ]
        },
        {
         "line": {
          "dash": "dash"
         },
         "mode": "lines",
         "name": "Perfect Calibration",
         "type": "scatter",
         "x": [
          0,
          0.1111111111111111,
          0.2222222222222222,
          0.3333333333333333,
          0.4444444444444444,
          0.5555555555555556,
          0.6666666666666666,
          0.7777777777777777,
          0.8888888888888888,
          1
         ],
         "y": [
          0,
          0.1111111111111111,
          0.2222222222222222,
          0.3333333333333333,
          0.4444444444444444,
          0.5555555555555556,
          0.6666666666666666,
          0.7777777777777777,
          0.8888888888888888,
          1
         ]
        },
        {
         "name": "Our Model's Number of Shots per Bucket",
         "opacity": 0.5,
         "type": "bar",
         "x": [
          "0.1",
          "0.2",
          "0.3",
          "0.4",
          "0.5",
          "0.6",
          "0.7",
          "0.8",
          "0.9",
          "1.0"
         ],
         "xaxis": "x2",
         "y": [
          9516,
          5369,
          1377,
          234,
          41,
          10,
          3,
          5,
          9,
          6
         ],
         "yaxis": "y2"
        },
        {
         "name": "StatsBomb Model's Number of Shots per Bucket",
         "opacity": 0.5,
         "type": "bar",
         "x": [
          "0.1",
          "0.2",
          "0.3",
          "0.4",
          "0.5",
          "0.6",
          "0.7",
          "0.8",
          "0.9",
          "1.0"
         ],
         "xaxis": "x2",
         "y": [
          12141,
          2411,
          886,
          474,
          302,
          162,
          79,
          37,
          44,
          34
         ],
         "yaxis": "y2"
        }
       ],
       "layout": {
        "height": 650,
        "legend": {
         "orientation": "h"
        },
        "template": {
         "data": {
          "bar": [
           {
            "error_x": {
             "color": "#f2f5fa"
            },
            "error_y": {
             "color": "#f2f5fa"
            },
            "marker": {
             "line": {
              "color": "rgb(17,17,17)",
              "width": 0.5
             },
             "pattern": {
              "fillmode": "overlay",
              "size": 10,
              "solidity": 0.2
             }
            },
            "type": "bar"
           }
          ],
          "barpolar": [
           {
            "marker": {
             "line": {
              "color": "rgb(17,17,17)",
              "width": 0.5
             },
             "pattern": {
              "fillmode": "overlay",
              "size": 10,
              "solidity": 0.2
             }
            },
            "type": "barpolar"
           }
          ],
          "carpet": [
           {
            "aaxis": {
             "endlinecolor": "#A2B1C6",
             "gridcolor": "#506784",
             "linecolor": "#506784",
             "minorgridcolor": "#506784",
             "startlinecolor": "#A2B1C6"
            },
            "baxis": {
             "endlinecolor": "#A2B1C6",
             "gridcolor": "#506784",
             "linecolor": "#506784",
             "minorgridcolor": "#506784",
             "startlinecolor": "#A2B1C6"
            },
            "type": "carpet"
           }
          ],
          "choropleth": [
           {
            "colorbar": {
             "outlinewidth": 0,
             "ticks": ""
            },
            "type": "choropleth"
           }
          ],
          "contour": [
           {
            "colorbar": {
             "outlinewidth": 0,
             "ticks": ""
            },
            "colorscale": [
             [
              0,
              "#0d0887"
             ],
             [
              0.1111111111111111,
              "#46039f"
             ],
             [
              0.2222222222222222,
              "#7201a8"
             ],
             [
              0.3333333333333333,
              "#9c179e"
             ],
             [
              0.4444444444444444,
              "#bd3786"
             ],
             [
              0.5555555555555556,
              "#d8576b"
             ],
             [
              0.6666666666666666,
              "#ed7953"
             ],
             [
              0.7777777777777778,
              "#fb9f3a"
             ],
             [
              0.8888888888888888,
              "#fdca26"
             ],
             [
              1,
              "#f0f921"
             ]
            ],
            "type": "contour"
           }
          ],
          "contourcarpet": [
           {
            "colorbar": {
             "outlinewidth": 0,
             "ticks": ""
            },
            "type": "contourcarpet"
           }
          ],
          "heatmap": [
           {
            "colorbar": {
             "outlinewidth": 0,
             "ticks": ""
            },
            "colorscale": [
             [
              0,
              "#0d0887"
             ],
             [
              0.1111111111111111,
              "#46039f"
             ],
             [
              0.2222222222222222,
              "#7201a8"
             ],
             [
              0.3333333333333333,
              "#9c179e"
             ],
             [
              0.4444444444444444,
              "#bd3786"
             ],
             [
              0.5555555555555556,
              "#d8576b"
             ],
             [
              0.6666666666666666,
              "#ed7953"
             ],
             [
              0.7777777777777778,
              "#fb9f3a"
             ],
             [
              0.8888888888888888,
              "#fdca26"
             ],
             [
              1,
              "#f0f921"
             ]
            ],
            "type": "heatmap"
           }
          ],
          "heatmapgl": [
           {
            "colorbar": {
             "outlinewidth": 0,
             "ticks": ""
            },
            "colorscale": [
             [
              0,
              "#0d0887"
             ],
             [
              0.1111111111111111,
              "#46039f"
             ],
             [
              0.2222222222222222,
              "#7201a8"
             ],
             [
              0.3333333333333333,
              "#9c179e"
             ],
             [
              0.4444444444444444,
              "#bd3786"
             ],
             [
              0.5555555555555556,
              "#d8576b"
             ],
             [
              0.6666666666666666,
              "#ed7953"
             ],
             [
              0.7777777777777778,
              "#fb9f3a"
             ],
             [
              0.8888888888888888,
              "#fdca26"
             ],
             [
              1,
              "#f0f921"
             ]
            ],
            "type": "heatmapgl"
           }
          ],
          "histogram": [
           {
            "marker": {
             "pattern": {
              "fillmode": "overlay",
              "size": 10,
              "solidity": 0.2
             }
            },
            "type": "histogram"
           }
          ],
          "histogram2d": [
           {
            "colorbar": {
             "outlinewidth": 0,
             "ticks": ""
            },
            "colorscale": [
             [
              0,
              "#0d0887"
             ],
             [
              0.1111111111111111,
              "#46039f"
             ],
             [
              0.2222222222222222,
              "#7201a8"
             ],
             [
              0.3333333333333333,
              "#9c179e"
             ],
             [
              0.4444444444444444,
              "#bd3786"
             ],
             [
              0.5555555555555556,
              "#d8576b"
             ],
             [
              0.6666666666666666,
              "#ed7953"
             ],
             [
              0.7777777777777778,
              "#fb9f3a"
             ],
             [
              0.8888888888888888,
              "#fdca26"
             ],
             [
              1,
              "#f0f921"
             ]
            ],
            "type": "histogram2d"
           }
          ],
          "histogram2dcontour": [
           {
            "colorbar": {
             "outlinewidth": 0,
             "ticks": ""
            },
            "colorscale": [
             [
              0,
              "#0d0887"
             ],
             [
              0.1111111111111111,
              "#46039f"
             ],
             [
              0.2222222222222222,
              "#7201a8"
             ],
             [
              0.3333333333333333,
              "#9c179e"
             ],
             [
              0.4444444444444444,
              "#bd3786"
             ],
             [
              0.5555555555555556,
              "#d8576b"
             ],
             [
              0.6666666666666666,
              "#ed7953"
             ],
             [
              0.7777777777777778,
              "#fb9f3a"
             ],
             [
              0.8888888888888888,
              "#fdca26"
             ],
             [
              1,
              "#f0f921"
             ]
            ],
            "type": "histogram2dcontour"
           }
          ],
          "mesh3d": [
           {
            "colorbar": {
             "outlinewidth": 0,
             "ticks": ""
            },
            "type": "mesh3d"
           }
          ],
          "parcoords": [
           {
            "line": {
             "colorbar": {
              "outlinewidth": 0,
              "ticks": ""
             }
            },
            "type": "parcoords"
           }
          ],
          "pie": [
           {
            "automargin": true,
            "type": "pie"
           }
          ],
          "scatter": [
           {
            "marker": {
             "line": {
              "color": "#283442"
             }
            },
            "type": "scatter"
           }
          ],
          "scatter3d": [
           {
            "line": {
             "colorbar": {
              "outlinewidth": 0,
              "ticks": ""
             }
            },
            "marker": {
             "colorbar": {
              "outlinewidth": 0,
              "ticks": ""
             }
            },
            "type": "scatter3d"
           }
          ],
          "scattercarpet": [
           {
            "marker": {
             "colorbar": {
              "outlinewidth": 0,
              "ticks": ""
             }
            },
            "type": "scattercarpet"
           }
          ],
          "scattergeo": [
           {
            "marker": {
             "colorbar": {
              "outlinewidth": 0,
              "ticks": ""
             }
            },
            "type": "scattergeo"
           }
          ],
          "scattergl": [
           {
            "marker": {
             "line": {
              "color": "#283442"
             }
            },
            "type": "scattergl"
           }
          ],
          "scattermapbox": [
           {
            "marker": {
             "colorbar": {
              "outlinewidth": 0,
              "ticks": ""
             }
            },
            "type": "scattermapbox"
           }
          ],
          "scatterpolar": [
           {
            "marker": {
             "colorbar": {
              "outlinewidth": 0,
              "ticks": ""
             }
            },
            "type": "scatterpolar"
           }
          ],
          "scatterpolargl": [
           {
            "marker": {
             "colorbar": {
              "outlinewidth": 0,
              "ticks": ""
             }
            },
            "type": "scatterpolargl"
           }
          ],
          "scatterternary": [
           {
            "marker": {
             "colorbar": {
              "outlinewidth": 0,
              "ticks": ""
             }
            },
            "type": "scatterternary"
           }
          ],
          "surface": [
           {
            "colorbar": {
             "outlinewidth": 0,
             "ticks": ""
            },
            "colorscale": [
             [
              0,
              "#0d0887"
             ],
             [
              0.1111111111111111,
              "#46039f"
             ],
             [
              0.2222222222222222,
              "#7201a8"
             ],
             [
              0.3333333333333333,
              "#9c179e"
             ],
             [
              0.4444444444444444,
              "#bd3786"
             ],
             [
              0.5555555555555556,
              "#d8576b"
             ],
             [
              0.6666666666666666,
              "#ed7953"
             ],
             [
              0.7777777777777778,
              "#fb9f3a"
             ],
             [
              0.8888888888888888,
              "#fdca26"
             ],
             [
              1,
              "#f0f921"
             ]
            ],
            "type": "surface"
           }
          ],
          "table": [
           {
            "cells": {
             "fill": {
              "color": "#506784"
             },
             "line": {
              "color": "rgb(17,17,17)"
             }
            },
            "header": {
             "fill": {
              "color": "#2a3f5f"
             },
             "line": {
              "color": "rgb(17,17,17)"
             }
            },
            "type": "table"
           }
          ]
         },
         "layout": {
          "annotationdefaults": {
           "arrowcolor": "#f2f5fa",
           "arrowhead": 0,
           "arrowwidth": 1
          },
          "autotypenumbers": "strict",
          "coloraxis": {
           "colorbar": {
            "outlinewidth": 0,
            "ticks": ""
           }
          },
          "colorscale": {
           "diverging": [
            [
             0,
             "#8e0152"
            ],
            [
             0.1,
             "#c51b7d"
            ],
            [
             0.2,
             "#de77ae"
            ],
            [
             0.3,
             "#f1b6da"
            ],
            [
             0.4,
             "#fde0ef"
            ],
            [
             0.5,
             "#f7f7f7"
            ],
            [
             0.6,
             "#e6f5d0"
            ],
            [
             0.7,
             "#b8e186"
            ],
            [
             0.8,
             "#7fbc41"
            ],
            [
             0.9,
             "#4d9221"
            ],
            [
             1,
             "#276419"
            ]
           ],
           "sequential": [
            [
             0,
             "#0d0887"
            ],
            [
             0.1111111111111111,
             "#46039f"
            ],
            [
             0.2222222222222222,
             "#7201a8"
            ],
            [
             0.3333333333333333,
             "#9c179e"
            ],
            [
             0.4444444444444444,
             "#bd3786"
            ],
            [
             0.5555555555555556,
             "#d8576b"
            ],
            [
             0.6666666666666666,
             "#ed7953"
            ],
            [
             0.7777777777777778,
             "#fb9f3a"
            ],
            [
             0.8888888888888888,
             "#fdca26"
            ],
            [
             1,
             "#f0f921"
            ]
           ],
           "sequentialminus": [
            [
             0,
             "#0d0887"
            ],
            [
             0.1111111111111111,
             "#46039f"
            ],
            [
             0.2222222222222222,
             "#7201a8"
            ],
            [
             0.3333333333333333,
             "#9c179e"
            ],
            [
             0.4444444444444444,
             "#bd3786"
            ],
            [
             0.5555555555555556,
             "#d8576b"
            ],
            [
             0.6666666666666666,
             "#ed7953"
            ],
            [
             0.7777777777777778,
             "#fb9f3a"
            ],
            [
             0.8888888888888888,
             "#fdca26"
            ],
            [
             1,
             "#f0f921"
            ]
           ]
          },
          "colorway": [
           "#636efa",
           "#EF553B",
           "#00cc96",
           "#ab63fa",
           "#FFA15A",
           "#19d3f3",
           "#FF6692",
           "#B6E880",
           "#FF97FF",
           "#FECB52"
          ],
          "font": {
           "color": "#f2f5fa"
          },
          "geo": {
           "bgcolor": "rgb(17,17,17)",
           "lakecolor": "rgb(17,17,17)",
           "landcolor": "rgb(17,17,17)",
           "showlakes": true,
           "showland": true,
           "subunitcolor": "#506784"
          },
          "hoverlabel": {
           "align": "left"
          },
          "hovermode": "closest",
          "mapbox": {
           "style": "dark"
          },
          "paper_bgcolor": "rgb(17,17,17)",
          "plot_bgcolor": "rgb(17,17,17)",
          "polar": {
           "angularaxis": {
            "gridcolor": "#506784",
            "linecolor": "#506784",
            "ticks": ""
           },
           "bgcolor": "rgb(17,17,17)",
           "radialaxis": {
            "gridcolor": "#506784",
            "linecolor": "#506784",
            "ticks": ""
           }
          },
          "scene": {
           "xaxis": {
            "backgroundcolor": "rgb(17,17,17)",
            "gridcolor": "#506784",
            "gridwidth": 2,
            "linecolor": "#506784",
            "showbackground": true,
            "ticks": "",
            "zerolinecolor": "#C8D4E3"
           },
           "yaxis": {
            "backgroundcolor": "rgb(17,17,17)",
            "gridcolor": "#506784",
            "gridwidth": 2,
            "linecolor": "#506784",
            "showbackground": true,
            "ticks": "",
            "zerolinecolor": "#C8D4E3"
           },
           "zaxis": {
            "backgroundcolor": "rgb(17,17,17)",
            "gridcolor": "#506784",
            "gridwidth": 2,
            "linecolor": "#506784",
            "showbackground": true,
            "ticks": "",
            "zerolinecolor": "#C8D4E3"
           }
          },
          "shapedefaults": {
           "line": {
            "color": "#f2f5fa"
           }
          },
          "sliderdefaults": {
           "bgcolor": "#C8D4E3",
           "bordercolor": "rgb(17,17,17)",
           "borderwidth": 1,
           "tickwidth": 0
          },
          "ternary": {
           "aaxis": {
            "gridcolor": "#506784",
            "linecolor": "#506784",
            "ticks": ""
           },
           "baxis": {
            "gridcolor": "#506784",
            "linecolor": "#506784",
            "ticks": ""
           },
           "bgcolor": "rgb(17,17,17)",
           "caxis": {
            "gridcolor": "#506784",
            "linecolor": "#506784",
            "ticks": ""
           }
          },
          "title": {
           "x": 0.05
          },
          "updatemenudefaults": {
           "bgcolor": "#506784",
           "borderwidth": 0
          },
          "xaxis": {
           "automargin": true,
           "gridcolor": "#283442",
           "linecolor": "#506784",
           "ticks": "",
           "title": {
            "standoff": 15
           },
           "zerolinecolor": "#283442",
           "zerolinewidth": 2
          },
          "yaxis": {
           "automargin": true,
           "gridcolor": "#283442",
           "linecolor": "#506784",
           "ticks": "",
           "title": {
            "standoff": 15
           },
           "zerolinecolor": "#283442",
           "zerolinewidth": 2
          }
         }
        },
        "title": {
         "text": "Calibration Curves with Uniform Buckets"
        },
        "width": 650,
        "xaxis": {
         "title": {
          "text": "Mean xG"
         }
        },
        "xaxis2": {
         "overlaying": "x",
         "showgrid": false,
         "showticklabels": false,
         "side": "top"
        },
        "yaxis": {
         "range": [
          0,
          1
         ],
         "title": {
          "text": "Fraction of Actual Goals"
         }
        },
        "yaxis2": {
         "overlaying": "y",
         "showgrid": false,
         "side": "right",
         "title": {
          "text": "Number of Shots"
         }
        }
       }
      }
     },
     "metadata": {},
     "output_type": "display_data"
    }
   ],
   "source": [
    "fig = go.Figure()\n",
    "fig.update_layout(template='plotly_dark')\n",
    "\n",
    "#plot calibration curve for our model with 10 uniform buckets (each bucket has equal width across prediction space)\n",
    "prob_true, prob_pred = calibration_curve(y_test, predictions_test, n_bins=10)\n",
    "fig.add_trace(go.Scatter(x=prob_pred, y=prob_true, mode='markers+lines', name='Our Model'))\n",
    "\n",
    "#plot calibration curve for StatsBomb model with 10 uniform buckets (each bucket has equal width across prediction space)\n",
    "prob_true, prob_pred = calibration_curve(y_test, sbxg_test, n_bins=10)\n",
    "fig.add_trace(go.Scatter(x=prob_pred, y=prob_true, mode='markers+lines', name='StatsBomb'))\n",
    "\n",
    "#plot calibration curve for perfect calibration\n",
    "fig.add_trace(go.Scatter(x=np.linspace(0, 1, 10), y=np.linspace(0, 1, 10), mode='lines', line=dict(dash='dash'), name='Perfect Calibration'))\n",
    "\n",
    "#histogram for number of our model's predictions in each bucket\n",
    "predictions_test_binned = np.digitize(predictions_test, bins=np.linspace(0, 1, 11)) - 1\n",
    "bin_labels = [f\"{(i / 10)}\" for i in range(1,11)]\n",
    "bin_counts = np.bincount(predictions_test_binned, minlength=10)\n",
    "\n",
    "fig.add_trace(go.Bar(x=bin_labels, y=bin_counts, name=\"Our Model's Number of Shots per Bucket\", yaxis='y2', xaxis='x2', opacity=0.5))\n",
    "\n",
    "#histogram for number of StatsBomb model's predictions in each bucket\n",
    "sbxg_test_binned = np.digitize(sbxg_test, bins=np.linspace(0, 1, 11)) - 1\n",
    "bin_labels = [f\"{(i / 10)}\" for i in range(1,11)]\n",
    "bin_counts = np.bincount(sbxg_test_binned, minlength=10)\n",
    "\n",
    "fig.add_trace(go.Bar(x=bin_labels, y=bin_counts, name=\"StatsBomb Model's Number of Shots per Bucket\", yaxis='y2', xaxis='x2', opacity=0.5))\n",
    "\n",
    "fig.update_layout(\n",
    "    title='Calibration Curves with Uniform Buckets',\n",
    "    xaxis_title='Mean xG',\n",
    "    yaxis={\n",
    "        'range': [0, 1],\n",
    "        'title': 'Fraction of Actual Goals'\n",
    "    },\n",
    "    yaxis2={\n",
    "        'title': 'Number of Shots',\n",
    "        'overlaying': 'y',\n",
    "        'side': 'right',\n",
    "        'showgrid':False,\n",
    "    },\n",
    "    xaxis2={\n",
    "        'overlaying': 'x',\n",
    "        'side': 'top',\n",
    "        'showgrid':False,\n",
    "        'showticklabels':False\n",
    "    },\n",
    "    legend=dict(\n",
    "        orientation='h',  \n",
    "    ),\n",
    "    width=650,\n",
    "    height=650\n",
    ")\n",
    "\n",
    "fig.show()"
   ]
  }
 ],
 "metadata": {
  "kernelspec": {
   "display_name": "myenv",
   "language": "python",
   "name": "python3"
  },
  "language_info": {
   "codemirror_mode": {
    "name": "ipython",
    "version": 3
   },
   "file_extension": ".py",
   "mimetype": "text/x-python",
   "name": "python",
   "nbconvert_exporter": "python",
   "pygments_lexer": "ipython3",
   "version": "3.12.1"
  },
  "orig_nbformat": 4,
  "vscode": {
   "interpreter": {
    "hash": "0b6471029c46d78c53deab5251606b2fd3273a55e340daa2ce8724a62eb4e9af"
   }
  }
 },
 "nbformat": 4,
 "nbformat_minor": 2
}

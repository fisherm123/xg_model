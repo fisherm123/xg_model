{
 "cells": [
  {
   "cell_type": "code",
   "execution_count": 9,
   "metadata": {},
   "outputs": [],
   "source": [
    "import numpy as np\n",
    "import warnings\n",
    "import time\n",
    "import sklearn.metrics as skmetrics\n",
    "from sklearn.calibration import calibration_curve\n",
    "import plotly.graph_objects as go\n",
    "\n",
    "warnings.filterwarnings(action='ignore')"
   ]
  },
  {
   "cell_type": "code",
   "execution_count": 10,
   "metadata": {},
   "outputs": [],
   "source": [
    "class Optimizer(object):\n",
    "\n",
    "    def __init__(self, alpha, eta_decay_factor, optimizer_type):\n",
    "        '''\n",
    "        Arg(s):\n",
    "            alpha : float\n",
    "                initial learning rate \n",
    "            eta_decay_factor : float\n",
    "                learning rate decay rate\n",
    "            optimizer_type : str\n",
    "                'gradient_descent',\n",
    "                'stochastic_gradient_descent',\n",
    "        '''\n",
    "\n",
    "        self.__alpha = alpha\n",
    "        self.__eta_decay_factor = eta_decay_factor\n",
    "        self.__optimizer_type = optimizer_type\n",
    "\n",
    "    def __compute_gradients(self, w, x, y, loss_func='logistic'):\n",
    "        '''\n",
    "        Returns the gradient of a loss function\n",
    "\n",
    "        Arg(s):\n",
    "            w : numpy[float32]\n",
    "                d x 1 weight vector\n",
    "            x : numpy[float32]\n",
    "                d x N feature vector\n",
    "            y : numpy[float32]\n",
    "                1 x N groundtruth vector\n",
    "            loss_func : str\n",
    "                loss by default is 'logistic' only for the purpose of the assignment\n",
    "        Returns:\n",
    "            numpy[float32] : d x 1 gradients\n",
    "        '''\n",
    "\n",
    "        if loss_func == 'logistic':\n",
    "            p = 1 / (1 + np.exp(-1 * y * np.matmul(w.T, x)))\n",
    "            return -1 * np.mean(y * x * (1 - p), axis=1).reshape(w.shape)\n",
    "        else:\n",
    "            raise ValueError('Unupported loss function: {}'.format(loss_func))\n",
    "\n",
    "    def __polynomial_decay(self, time_step):\n",
    "        '''\n",
    "        Computes the polynomial decay factor t^{-a}\n",
    "\n",
    "        Arg(s):\n",
    "            time_step : int\n",
    "                current step in optimization\n",
    "        Returns:\n",
    "            float : polynomial decay to adjust learning rate\n",
    "        '''\n",
    "\n",
    "        return np.power(1 / time_step, (self.__eta_decay_factor))\n",
    "\n",
    "    def update(self,\n",
    "               w,\n",
    "               x,\n",
    "               y,\n",
    "               loss_func,\n",
    "               batch_size,\n",
    "               time_step):\n",
    "        '''\n",
    "        Updates the weight vector based on\n",
    "\n",
    "        Arg(s):\n",
    "            w : numpy[float32]\n",
    "                d x 1 weight vector\n",
    "            x : numpy[float32]\n",
    "                d x N feature vector\n",
    "            y : numpy[float32]\n",
    "                1 x N groundtruth vector\n",
    "            loss_func : str\n",
    "                loss function to use, should be 'logistic' for the purpose of the assignment\n",
    "            batch_size : int\n",
    "                batch size for stochastic and momentum stochastic gradient descent\n",
    "            time_step : int\n",
    "                current step in optimization\n",
    "        Returns:\n",
    "            numpy[float32]: d x 1 weights\n",
    "        '''\n",
    "\n",
    "        if self.__optimizer_type == 'gradient_descent':\n",
    "            return w - self.__alpha * self.__compute_gradients(w, x, y, loss_func)\n",
    "        elif self.__optimizer_type == 'stochastic_gradient_descent':\n",
    "            batch_idx = np.random.choice(x.shape[1], batch_size)\n",
    "            return w - self.__polynomial_decay(time_step) * self.__alpha * self.__compute_gradients(w, x[:,batch_idx], y[batch_idx], loss_func)\n",
    "        else:\n",
    "            raise ValueError('Unsupported optimizer type: {}'.format(self.__optimizer_type))\n"
   ]
  },
  {
   "cell_type": "code",
   "execution_count": 11,
   "metadata": {},
   "outputs": [],
   "source": [
    "class LogisticRegression(object):\n",
    "\n",
    "    def __init__(self):\n",
    "        # Define private variables\n",
    "        self.__weights = None\n",
    "        self.__optimizer = None\n",
    "\n",
    "    def fit(self,\n",
    "            x,\n",
    "            y,\n",
    "            T,\n",
    "            alpha,\n",
    "            eta_decay_factor,\n",
    "            batch_size,\n",
    "            optimizer_type,\n",
    "            loss_func='logistic'):\n",
    "        '''\n",
    "        Fits the model to x and y by updating the weight vector\n",
    "        using gradient descent\n",
    "\n",
    "        Arg(s):\n",
    "            x : numpy[float32]\n",
    "                d x N feature vector\n",
    "            y : numpy[float32]\n",
    "                1 x N groundtruth vector\n",
    "            T : int\n",
    "                number of iterations to train\n",
    "            alpha : float\n",
    "                learning rate\n",
    "            eta_decay_factor : float\n",
    "                learning rate decay rate\n",
    "            batch_size : int\n",
    "                number of examples per batch\n",
    "            optimizer_type : str\n",
    "                'gradient_descent',\n",
    "                'momentum_gradient_descent',\n",
    "                'stochastic_gradient_descent',\n",
    "                'momentum_stochastic_gradient_descent'\n",
    "            loss_func : str\n",
    "                loss function to use, by default is 'logistic' only for the purpose of the assignment\n",
    "        '''\n",
    "\n",
    "        self.__optimizer = Optimizer(alpha, eta_decay_factor, optimizer_type)\n",
    "\n",
    "        self.__weights = np.zeros([x.shape[0], 1])\n",
    "\n",
    "        for t in range(1, T + 1):\n",
    "\n",
    "            loss = self.__compute_loss(x, y, loss_func)\n",
    "            if (t % 100) == 0:\n",
    "                print('Step={}  Loss={}'.format(t, loss))\n",
    "\n",
    "            self.__weights = self.__optimizer.update(self.__weights, x, y, loss_func, batch_size, t)\n",
    "\n",
    "    def predict(self, x):\n",
    "        '''\n",
    "        Predicts the label for each feature vector x\n",
    "\n",
    "        Arg(s):\n",
    "            x : numpy[float32]\n",
    "                d x N feature vector\n",
    "        Returns:\n",
    "            numpy[float32] : 1 x N vector\n",
    "        '''\n",
    "\n",
    "        predictions = 1 / (1 + np.exp(-1 * np.matmul(self.__weights.T, x)))\n",
    "        return predictions.squeeze()\n",
    "\n",
    "    def __compute_loss(self, x, y, loss_func):\n",
    "        '''\n",
    "        Computes the logistic loss\n",
    "\n",
    "        Arg(s):\n",
    "            x : numpy[float32]\n",
    "                d x N feature vector\n",
    "            y : numpy[float32]\n",
    "                1 x N groundtruth vector\n",
    "            loss_func : str\n",
    "                loss function to use, by default is 'logistic' only for the purpose of the assignment\n",
    "        Returns:\n",
    "            float : loss\n",
    "        '''\n",
    "\n",
    "        if loss_func == 'logistic':\n",
    "            loss = np.mean(np.log(1 + np.exp(-1 * y * np.matmul(self.__weights.T, x))))\n",
    "        else:\n",
    "            raise ValueError('Unsupported loss function: {}'.format(loss_func))\n",
    "\n",
    "        return loss"
   ]
  },
  {
   "cell_type": "code",
   "execution_count": 38,
   "metadata": {},
   "outputs": [],
   "source": [
    "data = np.vectorize(float)(np.load('data/shots.npy', allow_pickle=True))\n",
    "\n",
    "#separate StatsBomb xG, groundtruth, and feature vectors\n",
    "sbxg = data[:, 0]\n",
    "y = data[:, 1]\n",
    "x = data[:, 2:]\n",
    "\n",
    "#get random indices for train, val, test splits\n",
    "shuffled_indices = np.random.permutation(x.shape[0])\n",
    "train_split_idx = int(0.60 * x.shape[0])\n",
    "val_split_idx = int(0.80 * x.shape[0])\n",
    "\n",
    "train_indices = shuffled_indices[0:train_split_idx]\n",
    "val_indices = shuffled_indices[train_split_idx:val_split_idx]\n",
    "test_indices = shuffled_indices[val_split_idx:]\n",
    "\n",
    "#separate dataset into train, val, test splits\n",
    "x_train, y_train, sbxg_train = x[train_indices, :], y[train_indices], sbxg[train_indices]\n",
    "x_val, y_val, sbxg_val = x[val_indices, :], y[val_indices], sbxg[val_indices]\n",
    "x_test, y_test, sbxg_test = x[test_indices, :], y[test_indices], sbxg[test_indices]\n",
    "\n",
    "#format dataset into dXN and 1xN matrices as our logistic regression model expects\n",
    "x_train = np.transpose(x_train, axes=(1, 0))\n",
    "x_val = np.transpose(x_val, axes=(1, 0))\n",
    "x_test = np.transpose(x_test, axes=(1, 0))\n",
    "y_train = np.expand_dims(y_train, axis=0)\n",
    "y_val = np.expand_dims(y_val, axis=0)\n",
    "y_test = np.expand_dims(y_test, axis=0)\n",
    "\n",
    "y_train = y_train[0]\n",
    "y_val = y_val[0]\n",
    "y_test = y_test[0]"
   ]
  },
  {
   "cell_type": "code",
   "execution_count": 39,
   "metadata": {},
   "outputs": [
    {
     "name": "stdout",
     "output_type": "stream",
     "text": [
      "Step=100  Loss=0.3175392882546062\n",
      "Step=200  Loss=0.3144277105843266\n",
      "Step=300  Loss=0.31148972314572304\n",
      "Step=400  Loss=0.3093069735617467\n",
      "Step=500  Loss=0.30775989119987707\n",
      "Step=600  Loss=0.3065942332110384\n",
      "Step=700  Loss=0.30551070374956607\n",
      "Step=800  Loss=0.30456087457219766\n",
      "Step=900  Loss=0.30373882663822077\n",
      "Step=1000  Loss=0.30304625574444\n",
      "Step=1100  Loss=0.30225167413276893\n",
      "Step=1200  Loss=0.30158430647207507\n",
      "Step=1300  Loss=0.3010662880196011\n",
      "Step=1400  Loss=0.3010028351740967\n",
      "Step=1500  Loss=0.3000875098466144\n",
      "Step=1600  Loss=0.2997982824073307\n",
      "Step=1700  Loss=0.2993081613680201\n",
      "Step=1800  Loss=0.29896322038670003\n",
      "Step=1900  Loss=0.29887496257031365\n",
      "Step=2000  Loss=0.2983114395453737\n",
      "Step=2100  Loss=0.29804697942611413\n",
      "Step=2200  Loss=0.29794402513869417\n",
      "Step=2300  Loss=0.29808856161036484\n",
      "Step=2400  Loss=0.297431690804007\n",
      "Step=2500  Loss=0.2973821811665265\n",
      "Step=2600  Loss=0.2969527925219089\n",
      "Step=2700  Loss=0.2966958020285662\n",
      "Step=2800  Loss=0.297012405783801\n",
      "Step=2900  Loss=0.2965259068011078\n",
      "Step=3000  Loss=0.2965172191295293\n",
      "Step=3100  Loss=0.29601840170511917\n",
      "Step=3200  Loss=0.2959989313705008\n",
      "Step=3300  Loss=0.2961890401998728\n",
      "Step=3400  Loss=0.29570153569731317\n",
      "Step=3500  Loss=0.29560548478651844\n",
      "Step=3600  Loss=0.2958822870239718\n",
      "Step=3700  Loss=0.2959363439190661\n",
      "Step=3800  Loss=0.29580887544254203\n",
      "Step=3900  Loss=0.2950531252029115\n",
      "Step=4000  Loss=0.29502449773703066\n",
      "Step=4100  Loss=0.294854217325965\n",
      "Step=4200  Loss=0.2948301980740354\n",
      "Step=4300  Loss=0.29472172114314577\n",
      "Step=4400  Loss=0.2948821430458325\n",
      "Step=4500  Loss=0.2945475090699306\n",
      "Step=4600  Loss=0.29468704590989003\n",
      "Step=4700  Loss=0.29444172411041\n",
      "Step=4800  Loss=0.2942978351932187\n",
      "Step=4900  Loss=0.2942587712373517\n",
      "Step=5000  Loss=0.2944569810463485\n",
      "Step=5100  Loss=0.2941539068459223\n",
      "Step=5200  Loss=0.2941961652442713\n",
      "Step=5300  Loss=0.29406311955562187\n",
      "Step=5400  Loss=0.2944050735378008\n",
      "Step=5500  Loss=0.29446589718832766\n",
      "Step=5600  Loss=0.29433715859871307\n",
      "Step=5700  Loss=0.2938810353670943\n",
      "Step=5800  Loss=0.2937879994655478\n",
      "Step=5900  Loss=0.2937071356101426\n",
      "Step=6000  Loss=0.2936686148188513\n",
      "Total training time: 32.457503 seconds\n",
      "Training Log-loss of Our Model: 0.2938\n",
      "Training Log-loss of StatsBomb Model: 0.2633\n",
      "Validation Log-loss of Our Model: 0.2888\n",
      "Validation Log-loss of StatsBomb Model: 0.2561\n",
      "Testing Log-loss of Our Model: 0.2974\n",
      "Testing Log-loss of StatsBomb Model: 0.2665\n"
     ]
    }
   ],
   "source": [
    "model_ours = LogisticRegression()\n",
    "\n",
    "time_start = time.time()\n",
    "\n",
    "model_ours.fit(x_train, \n",
    "               y_train, \n",
    "               T=6000, \n",
    "               alpha=8e-5, \n",
    "               eta_decay_factor=1e-5, \n",
    "               batch_size=8000, \n",
    "               optimizer_type='stochastic_gradient_descent')\n",
    "\n",
    "time_elapsed = time.time() - time_start\n",
    "print('Total training time: {:3f} seconds'.format(time_elapsed))\n",
    "\n",
    "predictions_train = model_ours.predict(x_train)\n",
    "loss_score = skmetrics.log_loss(y_train, predictions_train)\n",
    "print('Training Log-loss of Our Model: {:.4f}'.format(loss_score))\n",
    "\n",
    "loss_score = skmetrics.log_loss(y_train, sbxg_train)\n",
    "print('Training Log-loss of StatsBomb Model: {:.4f}'.format(loss_score))\n",
    "\n",
    "predictions_val = model_ours.predict(x_val)\n",
    "loss_score = skmetrics.log_loss(y_val, predictions_val)\n",
    "print('Validation Log-loss of Our Model: {:.4f}'.format(loss_score))\n",
    "\n",
    "loss_score = skmetrics.log_loss(y_val, sbxg_val)\n",
    "print('Validation Log-loss of StatsBomb Model: {:.4f}'.format(loss_score))\n",
    "\n",
    "predictions_test = model_ours.predict(x_test)\n",
    "loss_score = skmetrics.log_loss(y_test, predictions_test)\n",
    "print('Testing Log-loss of Our Model: {:.4f}'.format(loss_score))\n",
    "\n",
    "loss_score = skmetrics.log_loss(y_test, sbxg_test)\n",
    "print('Testing Log-loss of StatsBomb Model: {:.4f}'.format(loss_score))\n"
   ]
  },
  {
   "cell_type": "code",
   "execution_count": 40,
   "metadata": {},
   "outputs": [
    {
     "name": "stdout",
     "output_type": "stream",
     "text": [
      "Underpredicted by: 5.6632%\n"
     ]
    }
   ],
   "source": [
    "#Testing success of model on our measure of success in proposal\n",
    "our_total_expected_goals = np.sum(predictions_test)\n",
    "real_total_expected_goals = 0\n",
    "for i in y_test:\n",
    "    if i == 1:\n",
    "        real_total_expected_goals += 1\n",
    "\n",
    "percentage_diff = (our_total_expected_goals - real_total_expected_goals) / real_total_expected_goals * 100\n",
    "if percentage_diff < 0:\n",
    "    print('Underpredicted by: {:.4f}%'.format(abs(percentage_diff)))\n",
    "elif percentage_diff > 0:\n",
    "    print('Overpredicted by: {:.4f}%'.format(abs(percentage_diff)))\n",
    "else:\n",
    "    print('Perfectly Accurate')"
   ]
  },
  {
   "cell_type": "code",
   "execution_count": 41,
   "metadata": {},
   "outputs": [
    {
     "data": {
      "application/vnd.plotly.v1+json": {
       "config": {
        "plotlyServerURL": "https://plot.ly"
       },
       "data": [
        {
         "mode": "markers+lines",
         "name": "Our Model",
         "type": "scatter",
         "x": [
          0.04836235209824022,
          0.13962996864801816,
          0.23727739010948465,
          0.33222578888539633,
          0.436747000566981,
          0.5389428181070655,
          0.6116582872042003,
          0.7521236753829673,
          0.8537768614399598
         ],
         "y": [
          0.044884963023829084,
          0.15351290261819553,
          0.2806873977086743,
          0.35365853658536583,
          0.5405405405405406,
          0.45454545454545453,
          1,
          0,
          0.3333333333333333
         ]
        },
        {
         "mode": "markers+lines",
         "name": "StatsBomb",
         "type": "scatter",
         "x": [
          0.042680664217345725,
          0.13739944699084486,
          0.2430414825584112,
          0.3448759171149677,
          0.4455521942446042,
          0.5429380922839505,
          0.6508959047368423,
          0.7480481866037734,
          0.8524470695833334,
          0.9380878688235293
         ],
         "y": [
          0.04533158455611116,
          0.15355805243445692,
          0.2523364485981308,
          0.40997830802603036,
          0.41007194244604317,
          0.5987654320987654,
          0.7105263157894737,
          0.8679245283018868,
          0.8125,
          0.9705882352941176
         ]
        },
        {
         "line": {
          "dash": "dash"
         },
         "mode": "lines",
         "name": "Perfect Calibration",
         "type": "scatter",
         "x": [
          0,
          0.1111111111111111,
          0.2222222222222222,
          0.3333333333333333,
          0.4444444444444444,
          0.5555555555555556,
          0.6666666666666666,
          0.7777777777777777,
          0.8888888888888888,
          1
         ],
         "y": [
          0,
          0.1111111111111111,
          0.2222222222222222,
          0.3333333333333333,
          0.4444444444444444,
          0.5555555555555556,
          0.6666666666666666,
          0.7777777777777777,
          0.8888888888888888,
          1
         ]
        },
        {
         "name": "Our Model's Number of Shots per Bucket",
         "opacity": 0.5,
         "type": "bar",
         "x": [
          "0.1",
          "0.2",
          "0.3",
          "0.4",
          "0.5",
          "0.6",
          "0.7",
          "0.8",
          "0.9",
          "1.0"
         ],
         "xaxis": "x2",
         "y": [
          9736,
          5309,
          1222,
          246,
          37,
          11,
          1,
          2,
          6,
          0
         ],
         "yaxis": "y2"
        },
        {
         "name": "StatsBomb Model's Number of Shots per Bucket",
         "opacity": 0.5,
         "type": "bar",
         "x": [
          "0.1",
          "0.2",
          "0.3",
          "0.4",
          "0.5",
          "0.6",
          "0.7",
          "0.8",
          "0.9",
          "1.0"
         ],
         "xaxis": "x2",
         "y": [
          12199,
          2403,
          856,
          461,
          278,
          162,
          76,
          53,
          48,
          34
         ],
         "yaxis": "y2"
        }
       ],
       "layout": {
        "height": 650,
        "legend": {
         "orientation": "h"
        },
        "template": {
         "data": {
          "bar": [
           {
            "error_x": {
             "color": "#f2f5fa"
            },
            "error_y": {
             "color": "#f2f5fa"
            },
            "marker": {
             "line": {
              "color": "rgb(17,17,17)",
              "width": 0.5
             },
             "pattern": {
              "fillmode": "overlay",
              "size": 10,
              "solidity": 0.2
             }
            },
            "type": "bar"
           }
          ],
          "barpolar": [
           {
            "marker": {
             "line": {
              "color": "rgb(17,17,17)",
              "width": 0.5
             },
             "pattern": {
              "fillmode": "overlay",
              "size": 10,
              "solidity": 0.2
             }
            },
            "type": "barpolar"
           }
          ],
          "carpet": [
           {
            "aaxis": {
             "endlinecolor": "#A2B1C6",
             "gridcolor": "#506784",
             "linecolor": "#506784",
             "minorgridcolor": "#506784",
             "startlinecolor": "#A2B1C6"
            },
            "baxis": {
             "endlinecolor": "#A2B1C6",
             "gridcolor": "#506784",
             "linecolor": "#506784",
             "minorgridcolor": "#506784",
             "startlinecolor": "#A2B1C6"
            },
            "type": "carpet"
           }
          ],
          "choropleth": [
           {
            "colorbar": {
             "outlinewidth": 0,
             "ticks": ""
            },
            "type": "choropleth"
           }
          ],
          "contour": [
           {
            "colorbar": {
             "outlinewidth": 0,
             "ticks": ""
            },
            "colorscale": [
             [
              0,
              "#0d0887"
             ],
             [
              0.1111111111111111,
              "#46039f"
             ],
             [
              0.2222222222222222,
              "#7201a8"
             ],
             [
              0.3333333333333333,
              "#9c179e"
             ],
             [
              0.4444444444444444,
              "#bd3786"
             ],
             [
              0.5555555555555556,
              "#d8576b"
             ],
             [
              0.6666666666666666,
              "#ed7953"
             ],
             [
              0.7777777777777778,
              "#fb9f3a"
             ],
             [
              0.8888888888888888,
              "#fdca26"
             ],
             [
              1,
              "#f0f921"
             ]
            ],
            "type": "contour"
           }
          ],
          "contourcarpet": [
           {
            "colorbar": {
             "outlinewidth": 0,
             "ticks": ""
            },
            "type": "contourcarpet"
           }
          ],
          "heatmap": [
           {
            "colorbar": {
             "outlinewidth": 0,
             "ticks": ""
            },
            "colorscale": [
             [
              0,
              "#0d0887"
             ],
             [
              0.1111111111111111,
              "#46039f"
             ],
             [
              0.2222222222222222,
              "#7201a8"
             ],
             [
              0.3333333333333333,
              "#9c179e"
             ],
             [
              0.4444444444444444,
              "#bd3786"
             ],
             [
              0.5555555555555556,
              "#d8576b"
             ],
             [
              0.6666666666666666,
              "#ed7953"
             ],
             [
              0.7777777777777778,
              "#fb9f3a"
             ],
             [
              0.8888888888888888,
              "#fdca26"
             ],
             [
              1,
              "#f0f921"
             ]
            ],
            "type": "heatmap"
           }
          ],
          "heatmapgl": [
           {
            "colorbar": {
             "outlinewidth": 0,
             "ticks": ""
            },
            "colorscale": [
             [
              0,
              "#0d0887"
             ],
             [
              0.1111111111111111,
              "#46039f"
             ],
             [
              0.2222222222222222,
              "#7201a8"
             ],
             [
              0.3333333333333333,
              "#9c179e"
             ],
             [
              0.4444444444444444,
              "#bd3786"
             ],
             [
              0.5555555555555556,
              "#d8576b"
             ],
             [
              0.6666666666666666,
              "#ed7953"
             ],
             [
              0.7777777777777778,
              "#fb9f3a"
             ],
             [
              0.8888888888888888,
              "#fdca26"
             ],
             [
              1,
              "#f0f921"
             ]
            ],
            "type": "heatmapgl"
           }
          ],
          "histogram": [
           {
            "marker": {
             "pattern": {
              "fillmode": "overlay",
              "size": 10,
              "solidity": 0.2
             }
            },
            "type": "histogram"
           }
          ],
          "histogram2d": [
           {
            "colorbar": {
             "outlinewidth": 0,
             "ticks": ""
            },
            "colorscale": [
             [
              0,
              "#0d0887"
             ],
             [
              0.1111111111111111,
              "#46039f"
             ],
             [
              0.2222222222222222,
              "#7201a8"
             ],
             [
              0.3333333333333333,
              "#9c179e"
             ],
             [
              0.4444444444444444,
              "#bd3786"
             ],
             [
              0.5555555555555556,
              "#d8576b"
             ],
             [
              0.6666666666666666,
              "#ed7953"
             ],
             [
              0.7777777777777778,
              "#fb9f3a"
             ],
             [
              0.8888888888888888,
              "#fdca26"
             ],
             [
              1,
              "#f0f921"
             ]
            ],
            "type": "histogram2d"
           }
          ],
          "histogram2dcontour": [
           {
            "colorbar": {
             "outlinewidth": 0,
             "ticks": ""
            },
            "colorscale": [
             [
              0,
              "#0d0887"
             ],
             [
              0.1111111111111111,
              "#46039f"
             ],
             [
              0.2222222222222222,
              "#7201a8"
             ],
             [
              0.3333333333333333,
              "#9c179e"
             ],
             [
              0.4444444444444444,
              "#bd3786"
             ],
             [
              0.5555555555555556,
              "#d8576b"
             ],
             [
              0.6666666666666666,
              "#ed7953"
             ],
             [
              0.7777777777777778,
              "#fb9f3a"
             ],
             [
              0.8888888888888888,
              "#fdca26"
             ],
             [
              1,
              "#f0f921"
             ]
            ],
            "type": "histogram2dcontour"
           }
          ],
          "mesh3d": [
           {
            "colorbar": {
             "outlinewidth": 0,
             "ticks": ""
            },
            "type": "mesh3d"
           }
          ],
          "parcoords": [
           {
            "line": {
             "colorbar": {
              "outlinewidth": 0,
              "ticks": ""
             }
            },
            "type": "parcoords"
           }
          ],
          "pie": [
           {
            "automargin": true,
            "type": "pie"
           }
          ],
          "scatter": [
           {
            "marker": {
             "line": {
              "color": "#283442"
             }
            },
            "type": "scatter"
           }
          ],
          "scatter3d": [
           {
            "line": {
             "colorbar": {
              "outlinewidth": 0,
              "ticks": ""
             }
            },
            "marker": {
             "colorbar": {
              "outlinewidth": 0,
              "ticks": ""
             }
            },
            "type": "scatter3d"
           }
          ],
          "scattercarpet": [
           {
            "marker": {
             "colorbar": {
              "outlinewidth": 0,
              "ticks": ""
             }
            },
            "type": "scattercarpet"
           }
          ],
          "scattergeo": [
           {
            "marker": {
             "colorbar": {
              "outlinewidth": 0,
              "ticks": ""
             }
            },
            "type": "scattergeo"
           }
          ],
          "scattergl": [
           {
            "marker": {
             "line": {
              "color": "#283442"
             }
            },
            "type": "scattergl"
           }
          ],
          "scattermapbox": [
           {
            "marker": {
             "colorbar": {
              "outlinewidth": 0,
              "ticks": ""
             }
            },
            "type": "scattermapbox"
           }
          ],
          "scatterpolar": [
           {
            "marker": {
             "colorbar": {
              "outlinewidth": 0,
              "ticks": ""
             }
            },
            "type": "scatterpolar"
           }
          ],
          "scatterpolargl": [
           {
            "marker": {
             "colorbar": {
              "outlinewidth": 0,
              "ticks": ""
             }
            },
            "type": "scatterpolargl"
           }
          ],
          "scatterternary": [
           {
            "marker": {
             "colorbar": {
              "outlinewidth": 0,
              "ticks": ""
             }
            },
            "type": "scatterternary"
           }
          ],
          "surface": [
           {
            "colorbar": {
             "outlinewidth": 0,
             "ticks": ""
            },
            "colorscale": [
             [
              0,
              "#0d0887"
             ],
             [
              0.1111111111111111,
              "#46039f"
             ],
             [
              0.2222222222222222,
              "#7201a8"
             ],
             [
              0.3333333333333333,
              "#9c179e"
             ],
             [
              0.4444444444444444,
              "#bd3786"
             ],
             [
              0.5555555555555556,
              "#d8576b"
             ],
             [
              0.6666666666666666,
              "#ed7953"
             ],
             [
              0.7777777777777778,
              "#fb9f3a"
             ],
             [
              0.8888888888888888,
              "#fdca26"
             ],
             [
              1,
              "#f0f921"
             ]
            ],
            "type": "surface"
           }
          ],
          "table": [
           {
            "cells": {
             "fill": {
              "color": "#506784"
             },
             "line": {
              "color": "rgb(17,17,17)"
             }
            },
            "header": {
             "fill": {
              "color": "#2a3f5f"
             },
             "line": {
              "color": "rgb(17,17,17)"
             }
            },
            "type": "table"
           }
          ]
         },
         "layout": {
          "annotationdefaults": {
           "arrowcolor": "#f2f5fa",
           "arrowhead": 0,
           "arrowwidth": 1
          },
          "autotypenumbers": "strict",
          "coloraxis": {
           "colorbar": {
            "outlinewidth": 0,
            "ticks": ""
           }
          },
          "colorscale": {
           "diverging": [
            [
             0,
             "#8e0152"
            ],
            [
             0.1,
             "#c51b7d"
            ],
            [
             0.2,
             "#de77ae"
            ],
            [
             0.3,
             "#f1b6da"
            ],
            [
             0.4,
             "#fde0ef"
            ],
            [
             0.5,
             "#f7f7f7"
            ],
            [
             0.6,
             "#e6f5d0"
            ],
            [
             0.7,
             "#b8e186"
            ],
            [
             0.8,
             "#7fbc41"
            ],
            [
             0.9,
             "#4d9221"
            ],
            [
             1,
             "#276419"
            ]
           ],
           "sequential": [
            [
             0,
             "#0d0887"
            ],
            [
             0.1111111111111111,
             "#46039f"
            ],
            [
             0.2222222222222222,
             "#7201a8"
            ],
            [
             0.3333333333333333,
             "#9c179e"
            ],
            [
             0.4444444444444444,
             "#bd3786"
            ],
            [
             0.5555555555555556,
             "#d8576b"
            ],
            [
             0.6666666666666666,
             "#ed7953"
            ],
            [
             0.7777777777777778,
             "#fb9f3a"
            ],
            [
             0.8888888888888888,
             "#fdca26"
            ],
            [
             1,
             "#f0f921"
            ]
           ],
           "sequentialminus": [
            [
             0,
             "#0d0887"
            ],
            [
             0.1111111111111111,
             "#46039f"
            ],
            [
             0.2222222222222222,
             "#7201a8"
            ],
            [
             0.3333333333333333,
             "#9c179e"
            ],
            [
             0.4444444444444444,
             "#bd3786"
            ],
            [
             0.5555555555555556,
             "#d8576b"
            ],
            [
             0.6666666666666666,
             "#ed7953"
            ],
            [
             0.7777777777777778,
             "#fb9f3a"
            ],
            [
             0.8888888888888888,
             "#fdca26"
            ],
            [
             1,
             "#f0f921"
            ]
           ]
          },
          "colorway": [
           "#636efa",
           "#EF553B",
           "#00cc96",
           "#ab63fa",
           "#FFA15A",
           "#19d3f3",
           "#FF6692",
           "#B6E880",
           "#FF97FF",
           "#FECB52"
          ],
          "font": {
           "color": "#f2f5fa"
          },
          "geo": {
           "bgcolor": "rgb(17,17,17)",
           "lakecolor": "rgb(17,17,17)",
           "landcolor": "rgb(17,17,17)",
           "showlakes": true,
           "showland": true,
           "subunitcolor": "#506784"
          },
          "hoverlabel": {
           "align": "left"
          },
          "hovermode": "closest",
          "mapbox": {
           "style": "dark"
          },
          "paper_bgcolor": "rgb(17,17,17)",
          "plot_bgcolor": "rgb(17,17,17)",
          "polar": {
           "angularaxis": {
            "gridcolor": "#506784",
            "linecolor": "#506784",
            "ticks": ""
           },
           "bgcolor": "rgb(17,17,17)",
           "radialaxis": {
            "gridcolor": "#506784",
            "linecolor": "#506784",
            "ticks": ""
           }
          },
          "scene": {
           "xaxis": {
            "backgroundcolor": "rgb(17,17,17)",
            "gridcolor": "#506784",
            "gridwidth": 2,
            "linecolor": "#506784",
            "showbackground": true,
            "ticks": "",
            "zerolinecolor": "#C8D4E3"
           },
           "yaxis": {
            "backgroundcolor": "rgb(17,17,17)",
            "gridcolor": "#506784",
            "gridwidth": 2,
            "linecolor": "#506784",
            "showbackground": true,
            "ticks": "",
            "zerolinecolor": "#C8D4E3"
           },
           "zaxis": {
            "backgroundcolor": "rgb(17,17,17)",
            "gridcolor": "#506784",
            "gridwidth": 2,
            "linecolor": "#506784",
            "showbackground": true,
            "ticks": "",
            "zerolinecolor": "#C8D4E3"
           }
          },
          "shapedefaults": {
           "line": {
            "color": "#f2f5fa"
           }
          },
          "sliderdefaults": {
           "bgcolor": "#C8D4E3",
           "bordercolor": "rgb(17,17,17)",
           "borderwidth": 1,
           "tickwidth": 0
          },
          "ternary": {
           "aaxis": {
            "gridcolor": "#506784",
            "linecolor": "#506784",
            "ticks": ""
           },
           "baxis": {
            "gridcolor": "#506784",
            "linecolor": "#506784",
            "ticks": ""
           },
           "bgcolor": "rgb(17,17,17)",
           "caxis": {
            "gridcolor": "#506784",
            "linecolor": "#506784",
            "ticks": ""
           }
          },
          "title": {
           "x": 0.05
          },
          "updatemenudefaults": {
           "bgcolor": "#506784",
           "borderwidth": 0
          },
          "xaxis": {
           "automargin": true,
           "gridcolor": "#283442",
           "linecolor": "#506784",
           "ticks": "",
           "title": {
            "standoff": 15
           },
           "zerolinecolor": "#283442",
           "zerolinewidth": 2
          },
          "yaxis": {
           "automargin": true,
           "gridcolor": "#283442",
           "linecolor": "#506784",
           "ticks": "",
           "title": {
            "standoff": 15
           },
           "zerolinecolor": "#283442",
           "zerolinewidth": 2
          }
         }
        },
        "title": {
         "text": "Calibration Curves with Uniform Buckets"
        },
        "width": 650,
        "xaxis": {
         "title": {
          "text": "Mean xG"
         }
        },
        "xaxis2": {
         "overlaying": "x",
         "showgrid": false,
         "showticklabels": false,
         "side": "top"
        },
        "yaxis": {
         "range": [
          0,
          1
         ],
         "title": {
          "text": "Fraction of Actual Goals"
         }
        },
        "yaxis2": {
         "overlaying": "y",
         "showgrid": false,
         "side": "right",
         "title": {
          "text": "Number of Shots"
         }
        }
       }
      }
     },
     "metadata": {},
     "output_type": "display_data"
    }
   ],
   "source": [
    "fig = go.Figure()\n",
    "fig.update_layout(template='plotly_dark')\n",
    "\n",
    "#plot calibration curve for our model with 10 uniform buckets (each bucket has equal width across prediction space)\n",
    "prob_true, prob_pred = calibration_curve(y_test, predictions_test, n_bins=10)\n",
    "fig.add_trace(go.Scatter(x=prob_pred, y=prob_true, mode='markers+lines', name='Our Model'))\n",
    "\n",
    "#plot calibration curve for StatsBomb model with 10 uniform buckets (each bucket has equal width across prediction space)\n",
    "prob_true, prob_pred = calibration_curve(y_test, sbxg_test, n_bins=10)\n",
    "fig.add_trace(go.Scatter(x=prob_pred, y=prob_true, mode='markers+lines', name='StatsBomb'))\n",
    "\n",
    "#plot calibration curve for perfect calibration\n",
    "fig.add_trace(go.Scatter(x=np.linspace(0, 1, 10), y=np.linspace(0, 1, 10), mode='lines', line=dict(dash='dash'), name='Perfect Calibration'))\n",
    "\n",
    "#histogram for number of our model's predictions in each bucket\n",
    "predictions_test_binned = np.digitize(predictions_test, bins=np.linspace(0, 1, 11)) - 1\n",
    "bin_labels = [f\"{(i / 10)}\" for i in range(1,11)]\n",
    "bin_counts = np.bincount(predictions_test_binned, minlength=10)\n",
    "\n",
    "fig.add_trace(go.Bar(x=bin_labels, y=bin_counts, name=\"Our Model's Number of Shots per Bucket\", yaxis='y2', xaxis='x2', opacity=0.5))\n",
    "\n",
    "#histogram for number of StatsBomb model's predictions in each bucket\n",
    "sbxg_test_binned = np.digitize(sbxg_test, bins=np.linspace(0, 1, 11)) - 1\n",
    "bin_labels = [f\"{(i / 10)}\" for i in range(1,11)]\n",
    "bin_counts = np.bincount(sbxg_test_binned, minlength=10)\n",
    "\n",
    "fig.add_trace(go.Bar(x=bin_labels, y=bin_counts, name=\"StatsBomb Model's Number of Shots per Bucket\", yaxis='y2', xaxis='x2', opacity=0.5))\n",
    "\n",
    "fig.update_layout(\n",
    "    title='Calibration Curves with Uniform Buckets',\n",
    "    xaxis_title='Mean xG',\n",
    "    yaxis={\n",
    "        'range': [0, 1],\n",
    "        'title': 'Fraction of Actual Goals'\n",
    "    },\n",
    "    yaxis2={\n",
    "        'title': 'Number of Shots',\n",
    "        'overlaying': 'y',\n",
    "        'side': 'right',\n",
    "        'showgrid':False,\n",
    "    },\n",
    "    xaxis2={\n",
    "        'overlaying': 'x',\n",
    "        'side': 'top',\n",
    "        'showgrid':False,\n",
    "        'showticklabels':False\n",
    "    },\n",
    "    legend=dict(\n",
    "        orientation='h',  \n",
    "    ),\n",
    "    width=650,\n",
    "    height=650\n",
    ")\n",
    "\n",
    "fig.show()"
   ]
  }
 ],
 "metadata": {
  "kernelspec": {
   "display_name": "myenv",
   "language": "python",
   "name": "python3"
  },
  "language_info": {
   "codemirror_mode": {
    "name": "ipython",
    "version": 3
   },
   "file_extension": ".py",
   "mimetype": "text/x-python",
   "name": "python",
   "nbconvert_exporter": "python",
   "pygments_lexer": "ipython3",
   "version": "3.12.1"
  },
  "orig_nbformat": 4,
  "vscode": {
   "interpreter": {
    "hash": "0b6471029c46d78c53deab5251606b2fd3273a55e340daa2ce8724a62eb4e9af"
   }
  }
 },
 "nbformat": 4,
 "nbformat_minor": 2
}

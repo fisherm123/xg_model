{
 "cells": [
  {
   "cell_type": "code",
   "execution_count": 29,
   "metadata": {},
   "outputs": [],
   "source": [
    "import numpy as np\n",
    "import warnings\n",
    "import time\n",
    "import sklearn.metrics as skmetrics\n",
    "from sklearn.calibration import calibration_curve\n",
    "import plotly.graph_objects as go\n",
    "\n",
    "warnings.filterwarnings(action='ignore')"
   ]
  },
  {
   "cell_type": "code",
   "execution_count": 4,
   "metadata": {},
   "outputs": [],
   "source": [
    "class Optimizer(object):\n",
    "\n",
    "    def __init__(self, alpha, eta_decay_factor, optimizer_type):\n",
    "        '''\n",
    "        Arg(s):\n",
    "            alpha : float\n",
    "                initial learning rate \n",
    "            eta_decay_factor : float\n",
    "                learning rate decay rate\n",
    "            optimizer_type : str\n",
    "                'gradient_descent',\n",
    "                'stochastic_gradient_descent',\n",
    "        '''\n",
    "\n",
    "        self.__alpha = alpha\n",
    "        self.__eta_decay_factor = eta_decay_factor\n",
    "        self.__optimizer_type = optimizer_type\n",
    "\n",
    "    def __compute_gradients(self, w, x, y, loss_func='logistic'):\n",
    "        '''\n",
    "        Returns the gradient of a loss function\n",
    "\n",
    "        Arg(s):\n",
    "            w : numpy[float32]\n",
    "                d x 1 weight vector\n",
    "            x : numpy[float32]\n",
    "                d x N feature vector\n",
    "            y : numpy[float32]\n",
    "                1 x N groundtruth vector\n",
    "            loss_func : str\n",
    "                loss by default is 'logistic' only for the purpose of the assignment\n",
    "        Returns:\n",
    "            numpy[float32] : d x 1 gradients\n",
    "        '''\n",
    "\n",
    "        if loss_func == 'logistic':\n",
    "            p = 1 / (1 + np.exp(-1 * y * np.matmul(w.T, x)))\n",
    "            return -1 * np.mean(y * x * (1 - p), axis=1).reshape(w.shape)\n",
    "        else:\n",
    "            raise ValueError('Unupported loss function: {}'.format(loss_func))\n",
    "\n",
    "    def __polynomial_decay(self, time_step):\n",
    "        '''\n",
    "        Computes the polynomial decay factor t^{-a}\n",
    "\n",
    "        Arg(s):\n",
    "            time_step : int\n",
    "                current step in optimization\n",
    "        Returns:\n",
    "            float : polynomial decay to adjust learning rate\n",
    "        '''\n",
    "\n",
    "        return np.power(1 / time_step, (self.__eta_decay_factor))\n",
    "\n",
    "    def update(self,\n",
    "               w,\n",
    "               x,\n",
    "               y,\n",
    "               loss_func,\n",
    "               batch_size,\n",
    "               time_step):\n",
    "        '''\n",
    "        Updates the weight vector based on\n",
    "\n",
    "        Arg(s):\n",
    "            w : numpy[float32]\n",
    "                d x 1 weight vector\n",
    "            x : numpy[float32]\n",
    "                d x N feature vector\n",
    "            y : numpy[float32]\n",
    "                1 x N groundtruth vector\n",
    "            loss_func : str\n",
    "                loss function to use, should be 'logistic' for the purpose of the assignment\n",
    "            batch_size : int\n",
    "                batch size for stochastic and momentum stochastic gradient descent\n",
    "            time_step : int\n",
    "                current step in optimization\n",
    "        Returns:\n",
    "            numpy[float32]: d x 1 weights\n",
    "        '''\n",
    "\n",
    "        if self.__optimizer_type == 'gradient_descent':\n",
    "            return w - self.__alpha * self.__compute_gradients(w, x, y, loss_func)\n",
    "        elif self.__optimizer_type == 'stochastic_gradient_descent':\n",
    "            batch_idx = np.random.choice(x.shape[1], batch_size)\n",
    "            return w - self.__polynomial_decay(time_step) * self.__alpha * self.__compute_gradients(w, x[:,batch_idx], y[batch_idx], loss_func)\n",
    "        else:\n",
    "            raise ValueError('Unsupported optimizer type: {}'.format(self.__optimizer_type))\n"
   ]
  },
  {
   "cell_type": "code",
   "execution_count": 5,
   "metadata": {},
   "outputs": [],
   "source": [
    "class LogisticRegression(object):\n",
    "\n",
    "    def __init__(self):\n",
    "        # Define private variables\n",
    "        self.__weights = None\n",
    "        self.__optimizer = None\n",
    "\n",
    "    def fit(self,\n",
    "            x,\n",
    "            y,\n",
    "            T,\n",
    "            alpha,\n",
    "            eta_decay_factor,\n",
    "            batch_size,\n",
    "            optimizer_type,\n",
    "            loss_func='logistic'):\n",
    "        '''\n",
    "        Fits the model to x and y by updating the weight vector\n",
    "        using gradient descent\n",
    "\n",
    "        Arg(s):\n",
    "            x : numpy[float32]\n",
    "                d x N feature vector\n",
    "            y : numpy[float32]\n",
    "                1 x N groundtruth vector\n",
    "            T : int\n",
    "                number of iterations to train\n",
    "            alpha : float\n",
    "                learning rate\n",
    "            eta_decay_factor : float\n",
    "                learning rate decay rate\n",
    "            batch_size : int\n",
    "                number of examples per batch\n",
    "            optimizer_type : str\n",
    "                'gradient_descent',\n",
    "                'momentum_gradient_descent',\n",
    "                'stochastic_gradient_descent',\n",
    "                'momentum_stochastic_gradient_descent'\n",
    "            loss_func : str\n",
    "                loss function to use, by default is 'logistic' only for the purpose of the assignment\n",
    "        '''\n",
    "\n",
    "        self.__optimizer = Optimizer(alpha, eta_decay_factor, optimizer_type)\n",
    "\n",
    "        self.__weights = np.zeros([x.shape[0], 1])\n",
    "\n",
    "        for t in range(1, T + 1):\n",
    "\n",
    "            loss = self.__compute_loss(x, y, loss_func)\n",
    "            if (t % 100) == 0:\n",
    "                print('Step={}  Loss={}'.format(t, loss))\n",
    "\n",
    "            self.__weights = self.__optimizer.update(self.__weights, x, y, loss_func, batch_size, t)\n",
    "\n",
    "    def predict(self, x):\n",
    "        '''\n",
    "        Predicts the label for each feature vector x\n",
    "\n",
    "        Arg(s):\n",
    "            x : numpy[float32]\n",
    "                d x N feature vector\n",
    "        Returns:\n",
    "            numpy[float32] : 1 x N vector\n",
    "        '''\n",
    "\n",
    "        predictions = 1 / (1 + np.exp(-1 * np.matmul(self.__weights.T, x)))\n",
    "        return predictions.squeeze()\n",
    "\n",
    "    def __compute_loss(self, x, y, loss_func):\n",
    "        '''\n",
    "        Computes the logistic loss\n",
    "\n",
    "        Arg(s):\n",
    "            x : numpy[float32]\n",
    "                d x N feature vector\n",
    "            y : numpy[float32]\n",
    "                1 x N groundtruth vector\n",
    "            loss_func : str\n",
    "                loss function to use, by default is 'logistic' only for the purpose of the assignment\n",
    "        Returns:\n",
    "            float : loss\n",
    "        '''\n",
    "\n",
    "        if loss_func == 'logistic':\n",
    "            loss = np.mean(np.log(1 + np.exp(-1 * y * np.matmul(self.__weights.T, x))))\n",
    "        else:\n",
    "            raise ValueError('Unsupported loss function: {}'.format(loss_func))\n",
    "\n",
    "        return loss"
   ]
  },
  {
   "cell_type": "code",
   "execution_count": 9,
   "metadata": {},
   "outputs": [],
   "source": [
    "data = np.vectorize(float)(np.load('data/shots.npy', allow_pickle=True))\n",
    "\n",
    "sbxg = data[:, 0]\n",
    "y = data[:, 1]\n",
    "x = data[:, 2:]\n",
    "\n",
    "shuffled_indices = np.random.permutation(x.shape[0])\n",
    "\n",
    "train_split_idx = int(0.60 * x.shape[0])\n",
    "val_split_idx = int(0.80 * x.shape[0])\n",
    "\n",
    "train_indices = shuffled_indices[0:train_split_idx]\n",
    "val_indices = shuffled_indices[train_split_idx:val_split_idx]\n",
    "test_indices = shuffled_indices[val_split_idx:]\n",
    "\n",
    "x_train, y_train, sbxg_train = x[train_indices, :], y[train_indices], sbxg[train_indices]\n",
    "x_val, y_val, sbxg_val = x[val_indices, :], y[val_indices], sbxg[val_indices]\n",
    "x_test, y_test, sbxg_test = x[test_indices, :], y[test_indices], sbxg[test_indices]\n",
    "\n",
    "x_train = np.transpose(x_train, axes=(1, 0))\n",
    "x_val = np.transpose(x_val, axes=(1, 0))\n",
    "x_test = np.transpose(x_test, axes=(1, 0))\n",
    "y_train = np.expand_dims(y_train, axis=0)\n",
    "y_val = np.expand_dims(y_val, axis=0)\n",
    "y_test = np.expand_dims(y_test, axis=0)\n",
    "\n",
    "y_train = y_train[0]\n",
    "y_val = y_val[0]\n",
    "y_test = y_test[0]"
   ]
  },
  {
   "cell_type": "code",
   "execution_count": 23,
   "metadata": {},
   "outputs": [
    {
     "name": "stdout",
     "output_type": "stream",
     "text": [
      "Step=100  Loss=0.32023391574942267\n",
      "Step=200  Loss=0.31773855567747133\n",
      "Step=300  Loss=0.3157302252020914\n",
      "Step=400  Loss=0.3141919884554619\n",
      "Step=500  Loss=0.3130771536282461\n",
      "Step=600  Loss=0.31218260903672357\n",
      "Step=700  Loss=0.310494748327992\n",
      "Step=800  Loss=0.309470166981278\n",
      "Step=900  Loss=0.30916902223380127\n",
      "Step=1000  Loss=0.3084053477881781\n",
      "Step=1100  Loss=0.30688559088110173\n",
      "Step=1200  Loss=0.3061559388474312\n",
      "Step=1300  Loss=0.3061363353092344\n",
      "Step=1400  Loss=0.30494622974602287\n",
      "Step=1500  Loss=0.30475181733166873\n",
      "Step=1600  Loss=0.30367974850497437\n",
      "Step=1700  Loss=0.30359770845511463\n",
      "Step=1800  Loss=0.3028695239503065\n",
      "Step=1900  Loss=0.30258132772480756\n",
      "Step=2000  Loss=0.3018162849256347\n",
      "Step=2100  Loss=0.3018986879296898\n",
      "Step=2200  Loss=0.30139877974840373\n",
      "Step=2300  Loss=0.30351341680721045\n",
      "Step=2400  Loss=0.3009488077174985\n",
      "Step=2500  Loss=0.3009164863597641\n",
      "Step=2600  Loss=0.3007163956486043\n",
      "Step=2700  Loss=0.29994303658148697\n",
      "Step=2800  Loss=0.2996873645788858\n",
      "Step=2900  Loss=0.2990203795473198\n",
      "Step=3000  Loss=0.2987602791259034\n",
      "Step=3100  Loss=0.29854387631264606\n",
      "Step=3200  Loss=0.2993890420838515\n",
      "Step=3300  Loss=0.2982645809484661\n",
      "Step=3400  Loss=0.298082790012301\n",
      "Step=3500  Loss=0.29831448028745106\n",
      "Step=3600  Loss=0.2981858156655717\n",
      "Step=3700  Loss=0.297613284661047\n",
      "Step=3800  Loss=0.2973085566527805\n",
      "Step=3900  Loss=0.29786217639875107\n",
      "Step=4000  Loss=0.29707960650546017\n",
      "Step=4100  Loss=0.2969636150645383\n",
      "Step=4200  Loss=0.2968219856348204\n",
      "Step=4300  Loss=0.29710143617025647\n",
      "Step=4400  Loss=0.29724984381321545\n",
      "Step=4500  Loss=0.2966717232426904\n",
      "Step=4600  Loss=0.2966659600046138\n",
      "Step=4700  Loss=0.296266212264781\n",
      "Step=4800  Loss=0.2962330820596422\n",
      "Step=4900  Loss=0.29609077870893646\n",
      "Step=5000  Loss=0.296218056097588\n",
      "Total training time: 57.551966 seconds\n",
      "Training Log-loss of Our Model: 0.2963\n",
      "Training Log-loss of StatsBomb Model: 0.2615\n",
      "Validation Log-loss of Our Model: 0.2994\n",
      "Validation Log-loss of StatsBomb Model: 0.2659\n",
      "Testing Log-loss of Our Model: 0.2937\n",
      "Testing Log-loss of StatsBomb Model: 0.2622\n"
     ]
    }
   ],
   "source": [
    "model_ours = LogisticRegression()\n",
    "\n",
    "time_start = time.time()\n",
    "\n",
    "model_ours.fit(x_train, \n",
    "               y_train, \n",
    "               T=5000, \n",
    "               alpha=1.3e-4, \n",
    "               eta_decay_factor=5e-3, \n",
    "               batch_size=8000, \n",
    "               optimizer_type='stochastic_gradient_descent')\n",
    "\n",
    "time_elapsed = time.time() - time_start\n",
    "print('Total training time: {:3f} seconds'.format(time_elapsed))\n",
    "\n",
    "predictions_train = model_ours.predict(x_train)\n",
    "loss_score = skmetrics.log_loss(y_train, predictions_train)\n",
    "print('Training Log-loss of Our Model: {:.4f}'.format(loss_score))\n",
    "\n",
    "loss_score = skmetrics.log_loss(y_train, sbxg_train)\n",
    "print('Training Log-loss of StatsBomb Model: {:.4f}'.format(loss_score))\n",
    "\n",
    "predictions_val = model_ours.predict(x_val)\n",
    "loss_score = skmetrics.log_loss(y_val, predictions_val)\n",
    "print('Validation Log-loss of Our Model: {:.4f}'.format(loss_score))\n",
    "\n",
    "loss_score = skmetrics.log_loss(y_val, sbxg_val)\n",
    "print('Validation Log-loss of StatsBomb Model: {:.4f}'.format(loss_score))\n",
    "\n",
    "predictions_test = model_ours.predict(x_test)\n",
    "loss_score = skmetrics.log_loss(y_test, predictions_test)\n",
    "print('Testing Log-loss of Our Model: {:.4f}'.format(loss_score))\n",
    "\n",
    "loss_score = skmetrics.log_loss(y_test, sbxg_test)\n",
    "print('Testing Log-loss of StatsBomb Model: {:.4f}'.format(loss_score))"
   ]
  },
  {
   "cell_type": "code",
   "execution_count": 53,
   "metadata": {},
   "outputs": [
    {
     "data": {
      "application/vnd.plotly.v1+json": {
       "config": {
        "plotlyServerURL": "https://plot.ly"
       },
       "data": [
        {
         "mode": "markers+lines",
         "name": "Our Model",
         "type": "scatter",
         "x": [
          0.02163624747109646,
          0.03698890430287932,
          0.05129712420584604,
          0.06680386335142462,
          0.0838287955804937,
          0.10191258749863405,
          0.12131744949985263,
          0.1455644416670331,
          0.18107895515672454,
          0.2685154953348391
         ],
         "y": [
          0.008449004224502113,
          0.028364514182257092,
          0.03862401931200966,
          0.05190102595051298,
          0.07242003621001811,
          0.07664453832226917,
          0.10742305371152686,
          0.1496680748340374,
          0.20820760410380204,
          0.2619191309595655
         ]
        },
        {
         "mode": "markers+lines",
         "name": "StatsBomb Model",
         "type": "scatter",
         "x": [
          0.008743253014121898,
          0.019215801009957786,
          0.027309912287869567,
          0.036044855042848524,
          0.046878228142426086,
          0.06032636240615556,
          0.0772435143216657,
          0.10474102375739289,
          0.1661516631744115,
          0.40289329846107425
         ],
         "y": [
          0.023536511768255886,
          0.018708509354254676,
          0.02051901025950513,
          0.030175015087507542,
          0.038020519010259504,
          0.06698853349426674,
          0.08147254073627037,
          0.11526855763427882,
          0.19251659625829812,
          0.4164152082076041
         ]
        },
        {
         "line": {
          "dash": "dash"
         },
         "mode": "lines",
         "name": "Perfect Calibration",
         "type": "scatter",
         "x": [
          0,
          0.1111111111111111,
          0.2222222222222222,
          0.3333333333333333,
          0.4444444444444444,
          0.5555555555555556,
          0.6666666666666666,
          0.7777777777777777,
          0.8888888888888888,
          1
         ],
         "y": [
          0,
          0.1111111111111111,
          0.2222222222222222,
          0.3333333333333333,
          0.4444444444444444,
          0.5555555555555556,
          0.6666666666666666,
          0.7777777777777777,
          0.8888888888888888,
          1
         ]
        }
       ],
       "layout": {
        "height": 600,
        "legend": {
         "orientation": "h",
         "x": 1,
         "xanchor": "right",
         "y": 1,
         "yanchor": "bottom"
        },
        "template": {
         "data": {
          "bar": [
           {
            "error_x": {
             "color": "#f2f5fa"
            },
            "error_y": {
             "color": "#f2f5fa"
            },
            "marker": {
             "line": {
              "color": "rgb(17,17,17)",
              "width": 0.5
             },
             "pattern": {
              "fillmode": "overlay",
              "size": 10,
              "solidity": 0.2
             }
            },
            "type": "bar"
           }
          ],
          "barpolar": [
           {
            "marker": {
             "line": {
              "color": "rgb(17,17,17)",
              "width": 0.5
             },
             "pattern": {
              "fillmode": "overlay",
              "size": 10,
              "solidity": 0.2
             }
            },
            "type": "barpolar"
           }
          ],
          "carpet": [
           {
            "aaxis": {
             "endlinecolor": "#A2B1C6",
             "gridcolor": "#506784",
             "linecolor": "#506784",
             "minorgridcolor": "#506784",
             "startlinecolor": "#A2B1C6"
            },
            "baxis": {
             "endlinecolor": "#A2B1C6",
             "gridcolor": "#506784",
             "linecolor": "#506784",
             "minorgridcolor": "#506784",
             "startlinecolor": "#A2B1C6"
            },
            "type": "carpet"
           }
          ],
          "choropleth": [
           {
            "colorbar": {
             "outlinewidth": 0,
             "ticks": ""
            },
            "type": "choropleth"
           }
          ],
          "contour": [
           {
            "colorbar": {
             "outlinewidth": 0,
             "ticks": ""
            },
            "colorscale": [
             [
              0,
              "#0d0887"
             ],
             [
              0.1111111111111111,
              "#46039f"
             ],
             [
              0.2222222222222222,
              "#7201a8"
             ],
             [
              0.3333333333333333,
              "#9c179e"
             ],
             [
              0.4444444444444444,
              "#bd3786"
             ],
             [
              0.5555555555555556,
              "#d8576b"
             ],
             [
              0.6666666666666666,
              "#ed7953"
             ],
             [
              0.7777777777777778,
              "#fb9f3a"
             ],
             [
              0.8888888888888888,
              "#fdca26"
             ],
             [
              1,
              "#f0f921"
             ]
            ],
            "type": "contour"
           }
          ],
          "contourcarpet": [
           {
            "colorbar": {
             "outlinewidth": 0,
             "ticks": ""
            },
            "type": "contourcarpet"
           }
          ],
          "heatmap": [
           {
            "colorbar": {
             "outlinewidth": 0,
             "ticks": ""
            },
            "colorscale": [
             [
              0,
              "#0d0887"
             ],
             [
              0.1111111111111111,
              "#46039f"
             ],
             [
              0.2222222222222222,
              "#7201a8"
             ],
             [
              0.3333333333333333,
              "#9c179e"
             ],
             [
              0.4444444444444444,
              "#bd3786"
             ],
             [
              0.5555555555555556,
              "#d8576b"
             ],
             [
              0.6666666666666666,
              "#ed7953"
             ],
             [
              0.7777777777777778,
              "#fb9f3a"
             ],
             [
              0.8888888888888888,
              "#fdca26"
             ],
             [
              1,
              "#f0f921"
             ]
            ],
            "type": "heatmap"
           }
          ],
          "heatmapgl": [
           {
            "colorbar": {
             "outlinewidth": 0,
             "ticks": ""
            },
            "colorscale": [
             [
              0,
              "#0d0887"
             ],
             [
              0.1111111111111111,
              "#46039f"
             ],
             [
              0.2222222222222222,
              "#7201a8"
             ],
             [
              0.3333333333333333,
              "#9c179e"
             ],
             [
              0.4444444444444444,
              "#bd3786"
             ],
             [
              0.5555555555555556,
              "#d8576b"
             ],
             [
              0.6666666666666666,
              "#ed7953"
             ],
             [
              0.7777777777777778,
              "#fb9f3a"
             ],
             [
              0.8888888888888888,
              "#fdca26"
             ],
             [
              1,
              "#f0f921"
             ]
            ],
            "type": "heatmapgl"
           }
          ],
          "histogram": [
           {
            "marker": {
             "pattern": {
              "fillmode": "overlay",
              "size": 10,
              "solidity": 0.2
             }
            },
            "type": "histogram"
           }
          ],
          "histogram2d": [
           {
            "colorbar": {
             "outlinewidth": 0,
             "ticks": ""
            },
            "colorscale": [
             [
              0,
              "#0d0887"
             ],
             [
              0.1111111111111111,
              "#46039f"
             ],
             [
              0.2222222222222222,
              "#7201a8"
             ],
             [
              0.3333333333333333,
              "#9c179e"
             ],
             [
              0.4444444444444444,
              "#bd3786"
             ],
             [
              0.5555555555555556,
              "#d8576b"
             ],
             [
              0.6666666666666666,
              "#ed7953"
             ],
             [
              0.7777777777777778,
              "#fb9f3a"
             ],
             [
              0.8888888888888888,
              "#fdca26"
             ],
             [
              1,
              "#f0f921"
             ]
            ],
            "type": "histogram2d"
           }
          ],
          "histogram2dcontour": [
           {
            "colorbar": {
             "outlinewidth": 0,
             "ticks": ""
            },
            "colorscale": [
             [
              0,
              "#0d0887"
             ],
             [
              0.1111111111111111,
              "#46039f"
             ],
             [
              0.2222222222222222,
              "#7201a8"
             ],
             [
              0.3333333333333333,
              "#9c179e"
             ],
             [
              0.4444444444444444,
              "#bd3786"
             ],
             [
              0.5555555555555556,
              "#d8576b"
             ],
             [
              0.6666666666666666,
              "#ed7953"
             ],
             [
              0.7777777777777778,
              "#fb9f3a"
             ],
             [
              0.8888888888888888,
              "#fdca26"
             ],
             [
              1,
              "#f0f921"
             ]
            ],
            "type": "histogram2dcontour"
           }
          ],
          "mesh3d": [
           {
            "colorbar": {
             "outlinewidth": 0,
             "ticks": ""
            },
            "type": "mesh3d"
           }
          ],
          "parcoords": [
           {
            "line": {
             "colorbar": {
              "outlinewidth": 0,
              "ticks": ""
             }
            },
            "type": "parcoords"
           }
          ],
          "pie": [
           {
            "automargin": true,
            "type": "pie"
           }
          ],
          "scatter": [
           {
            "marker": {
             "line": {
              "color": "#283442"
             }
            },
            "type": "scatter"
           }
          ],
          "scatter3d": [
           {
            "line": {
             "colorbar": {
              "outlinewidth": 0,
              "ticks": ""
             }
            },
            "marker": {
             "colorbar": {
              "outlinewidth": 0,
              "ticks": ""
             }
            },
            "type": "scatter3d"
           }
          ],
          "scattercarpet": [
           {
            "marker": {
             "colorbar": {
              "outlinewidth": 0,
              "ticks": ""
             }
            },
            "type": "scattercarpet"
           }
          ],
          "scattergeo": [
           {
            "marker": {
             "colorbar": {
              "outlinewidth": 0,
              "ticks": ""
             }
            },
            "type": "scattergeo"
           }
          ],
          "scattergl": [
           {
            "marker": {
             "line": {
              "color": "#283442"
             }
            },
            "type": "scattergl"
           }
          ],
          "scattermapbox": [
           {
            "marker": {
             "colorbar": {
              "outlinewidth": 0,
              "ticks": ""
             }
            },
            "type": "scattermapbox"
           }
          ],
          "scatterpolar": [
           {
            "marker": {
             "colorbar": {
              "outlinewidth": 0,
              "ticks": ""
             }
            },
            "type": "scatterpolar"
           }
          ],
          "scatterpolargl": [
           {
            "marker": {
             "colorbar": {
              "outlinewidth": 0,
              "ticks": ""
             }
            },
            "type": "scatterpolargl"
           }
          ],
          "scatterternary": [
           {
            "marker": {
             "colorbar": {
              "outlinewidth": 0,
              "ticks": ""
             }
            },
            "type": "scatterternary"
           }
          ],
          "surface": [
           {
            "colorbar": {
             "outlinewidth": 0,
             "ticks": ""
            },
            "colorscale": [
             [
              0,
              "#0d0887"
             ],
             [
              0.1111111111111111,
              "#46039f"
             ],
             [
              0.2222222222222222,
              "#7201a8"
             ],
             [
              0.3333333333333333,
              "#9c179e"
             ],
             [
              0.4444444444444444,
              "#bd3786"
             ],
             [
              0.5555555555555556,
              "#d8576b"
             ],
             [
              0.6666666666666666,
              "#ed7953"
             ],
             [
              0.7777777777777778,
              "#fb9f3a"
             ],
             [
              0.8888888888888888,
              "#fdca26"
             ],
             [
              1,
              "#f0f921"
             ]
            ],
            "type": "surface"
           }
          ],
          "table": [
           {
            "cells": {
             "fill": {
              "color": "#506784"
             },
             "line": {
              "color": "rgb(17,17,17)"
             }
            },
            "header": {
             "fill": {
              "color": "#2a3f5f"
             },
             "line": {
              "color": "rgb(17,17,17)"
             }
            },
            "type": "table"
           }
          ]
         },
         "layout": {
          "annotationdefaults": {
           "arrowcolor": "#f2f5fa",
           "arrowhead": 0,
           "arrowwidth": 1
          },
          "autotypenumbers": "strict",
          "coloraxis": {
           "colorbar": {
            "outlinewidth": 0,
            "ticks": ""
           }
          },
          "colorscale": {
           "diverging": [
            [
             0,
             "#8e0152"
            ],
            [
             0.1,
             "#c51b7d"
            ],
            [
             0.2,
             "#de77ae"
            ],
            [
             0.3,
             "#f1b6da"
            ],
            [
             0.4,
             "#fde0ef"
            ],
            [
             0.5,
             "#f7f7f7"
            ],
            [
             0.6,
             "#e6f5d0"
            ],
            [
             0.7,
             "#b8e186"
            ],
            [
             0.8,
             "#7fbc41"
            ],
            [
             0.9,
             "#4d9221"
            ],
            [
             1,
             "#276419"
            ]
           ],
           "sequential": [
            [
             0,
             "#0d0887"
            ],
            [
             0.1111111111111111,
             "#46039f"
            ],
            [
             0.2222222222222222,
             "#7201a8"
            ],
            [
             0.3333333333333333,
             "#9c179e"
            ],
            [
             0.4444444444444444,
             "#bd3786"
            ],
            [
             0.5555555555555556,
             "#d8576b"
            ],
            [
             0.6666666666666666,
             "#ed7953"
            ],
            [
             0.7777777777777778,
             "#fb9f3a"
            ],
            [
             0.8888888888888888,
             "#fdca26"
            ],
            [
             1,
             "#f0f921"
            ]
           ],
           "sequentialminus": [
            [
             0,
             "#0d0887"
            ],
            [
             0.1111111111111111,
             "#46039f"
            ],
            [
             0.2222222222222222,
             "#7201a8"
            ],
            [
             0.3333333333333333,
             "#9c179e"
            ],
            [
             0.4444444444444444,
             "#bd3786"
            ],
            [
             0.5555555555555556,
             "#d8576b"
            ],
            [
             0.6666666666666666,
             "#ed7953"
            ],
            [
             0.7777777777777778,
             "#fb9f3a"
            ],
            [
             0.8888888888888888,
             "#fdca26"
            ],
            [
             1,
             "#f0f921"
            ]
           ]
          },
          "colorway": [
           "#636efa",
           "#EF553B",
           "#00cc96",
           "#ab63fa",
           "#FFA15A",
           "#19d3f3",
           "#FF6692",
           "#B6E880",
           "#FF97FF",
           "#FECB52"
          ],
          "font": {
           "color": "#f2f5fa"
          },
          "geo": {
           "bgcolor": "rgb(17,17,17)",
           "lakecolor": "rgb(17,17,17)",
           "landcolor": "rgb(17,17,17)",
           "showlakes": true,
           "showland": true,
           "subunitcolor": "#506784"
          },
          "hoverlabel": {
           "align": "left"
          },
          "hovermode": "closest",
          "mapbox": {
           "style": "dark"
          },
          "paper_bgcolor": "rgb(17,17,17)",
          "plot_bgcolor": "rgb(17,17,17)",
          "polar": {
           "angularaxis": {
            "gridcolor": "#506784",
            "linecolor": "#506784",
            "ticks": ""
           },
           "bgcolor": "rgb(17,17,17)",
           "radialaxis": {
            "gridcolor": "#506784",
            "linecolor": "#506784",
            "ticks": ""
           }
          },
          "scene": {
           "xaxis": {
            "backgroundcolor": "rgb(17,17,17)",
            "gridcolor": "#506784",
            "gridwidth": 2,
            "linecolor": "#506784",
            "showbackground": true,
            "ticks": "",
            "zerolinecolor": "#C8D4E3"
           },
           "yaxis": {
            "backgroundcolor": "rgb(17,17,17)",
            "gridcolor": "#506784",
            "gridwidth": 2,
            "linecolor": "#506784",
            "showbackground": true,
            "ticks": "",
            "zerolinecolor": "#C8D4E3"
           },
           "zaxis": {
            "backgroundcolor": "rgb(17,17,17)",
            "gridcolor": "#506784",
            "gridwidth": 2,
            "linecolor": "#506784",
            "showbackground": true,
            "ticks": "",
            "zerolinecolor": "#C8D4E3"
           }
          },
          "shapedefaults": {
           "line": {
            "color": "#f2f5fa"
           }
          },
          "sliderdefaults": {
           "bgcolor": "#C8D4E3",
           "bordercolor": "rgb(17,17,17)",
           "borderwidth": 1,
           "tickwidth": 0
          },
          "ternary": {
           "aaxis": {
            "gridcolor": "#506784",
            "linecolor": "#506784",
            "ticks": ""
           },
           "baxis": {
            "gridcolor": "#506784",
            "linecolor": "#506784",
            "ticks": ""
           },
           "bgcolor": "rgb(17,17,17)",
           "caxis": {
            "gridcolor": "#506784",
            "linecolor": "#506784",
            "ticks": ""
           }
          },
          "title": {
           "x": 0.05
          },
          "updatemenudefaults": {
           "bgcolor": "#506784",
           "borderwidth": 0
          },
          "xaxis": {
           "automargin": true,
           "gridcolor": "#283442",
           "linecolor": "#506784",
           "ticks": "",
           "title": {
            "standoff": 15
           },
           "zerolinecolor": "#283442",
           "zerolinewidth": 2
          },
          "yaxis": {
           "automargin": true,
           "gridcolor": "#283442",
           "linecolor": "#506784",
           "ticks": "",
           "title": {
            "standoff": 15
           },
           "zerolinecolor": "#283442",
           "zerolinewidth": 2
          }
         }
        },
        "title": {
         "text": "Calibration Curves with Quantile Buckets"
        },
        "width": 600,
        "xaxis": {
         "title": {
          "text": "Mean xG"
         }
        },
        "yaxis": {
         "title": {
          "text": "Fraction of Actual Goals"
         }
        }
       }
      }
     },
     "metadata": {},
     "output_type": "display_data"
    }
   ],
   "source": [
    "fig = go.Figure()\n",
    "fig.update_layout(template='plotly_dark')\n",
    "\n",
    "prob_true, prob_pred = calibration_curve(y_test, predictions_test, n_bins=10, strategy='quantile')\n",
    "fig.add_trace(go.Scatter(x=prob_pred, y=prob_true, mode='markers+lines', name='Our Model'))\n",
    "\n",
    "prob_true, prob_pred = calibration_curve(y_test, sbxg_test, n_bins=10, strategy='quantile')\n",
    "fig.add_trace(go.Scatter(x=prob_pred, y=prob_true, mode='markers+lines', name='StatsBomb Model'))\n",
    "\n",
    "fig.add_trace(go.Scatter(x=np.linspace(0, 1, 10), y=np.linspace(0, 1, 10), mode='lines', line=dict(dash='dash'), name='Perfect Calibration'))\n",
    "\n",
    "fig.update_layout(\n",
    "    title='Calibration Curves with Quantile Buckets',\n",
    "    xaxis_title='Mean xG',\n",
    "    yaxis_title='Fraction of Actual Goals',\n",
    "    legend=dict(\n",
    "        orientation='h',\n",
    "        yanchor='bottom',\n",
    "        y=1,\n",
    "        xanchor='right',\n",
    "        x=1\n",
    "    ),\n",
    "    width=600,\n",
    "    height=600\n",
    ")\n",
    "\n",
    "fig.show()"
   ]
  },
  {
   "cell_type": "code",
   "execution_count": 84,
   "metadata": {},
   "outputs": [
    {
     "data": {
      "application/vnd.plotly.v1+json": {
       "config": {
        "plotlyServerURL": "https://plot.ly"
       },
       "data": [
        {
         "mode": "markers+lines",
         "name": "Our Model",
         "type": "scatter",
         "x": [
          0.05540753718325988,
          0.14026614725985548,
          0.23792666318146183,
          0.3350433805676591,
          0.437594979278582,
          0.5261700021123915,
          0.6376895941838885,
          0.834494322672149
         ],
         "y": [
          0.042550815278088,
          0.13982025578983753,
          0.23605442176870747,
          0.3170731707317073,
          0.42105263157894735,
          0.75,
          0.5,
          0.5
         ]
        },
        {
         "mode": "markers+lines",
         "name": "StatsBomb",
         "type": "scatter",
         "x": [
          0.04232262416411617,
          0.13820789421863228,
          0.2443013383034647,
          0.34629659020361997,
          0.44687212323129294,
          0.5418180052229299,
          0.6424289593670885,
          0.7538259743243244,
          0.8515964782000002,
          0.9376878490625
         ],
         "y": [
          0.04274410637082959,
          0.15862358371800253,
          0.2819593787335723,
          0.37104072398190047,
          0.4421768707482993,
          0.5159235668789809,
          0.7088607594936709,
          0.6486486486486487,
          0.82,
          0.90625
         ]
        },
        {
         "line": {
          "dash": "dash"
         },
         "mode": "lines",
         "name": "Perfect Calibration",
         "type": "scatter",
         "x": [
          0,
          0.1111111111111111,
          0.2222222222222222,
          0.3333333333333333,
          0.4444444444444444,
          0.5555555555555556,
          0.6666666666666666,
          0.7777777777777777,
          0.8888888888888888,
          1
         ],
         "y": [
          0,
          0.1111111111111111,
          0.2222222222222222,
          0.3333333333333333,
          0.4444444444444444,
          0.5555555555555556,
          0.6666666666666666,
          0.7777777777777777,
          0.8888888888888888,
          1
         ]
        },
        {
         "name": "Number of Shots per Bucket",
         "opacity": 0.5,
         "type": "bar",
         "x": [
          "0.1",
          "0.2",
          "0.3",
          "0.4",
          "0.5",
          "0.6",
          "0.7",
          "0.8",
          "0.9",
          "1.0"
         ],
         "xaxis": "x2",
         "y": [
          8954,
          5786,
          1470,
          287,
          57,
          12,
          2,
          0,
          2,
          0
         ],
         "yaxis": "y2"
        }
       ],
       "layout": {
        "height": 600,
        "legend": {
         "orientation": "h",
         "x": 1,
         "xanchor": "right",
         "y": 1,
         "yanchor": "bottom"
        },
        "template": {
         "data": {
          "bar": [
           {
            "error_x": {
             "color": "#f2f5fa"
            },
            "error_y": {
             "color": "#f2f5fa"
            },
            "marker": {
             "line": {
              "color": "rgb(17,17,17)",
              "width": 0.5
             },
             "pattern": {
              "fillmode": "overlay",
              "size": 10,
              "solidity": 0.2
             }
            },
            "type": "bar"
           }
          ],
          "barpolar": [
           {
            "marker": {
             "line": {
              "color": "rgb(17,17,17)",
              "width": 0.5
             },
             "pattern": {
              "fillmode": "overlay",
              "size": 10,
              "solidity": 0.2
             }
            },
            "type": "barpolar"
           }
          ],
          "carpet": [
           {
            "aaxis": {
             "endlinecolor": "#A2B1C6",
             "gridcolor": "#506784",
             "linecolor": "#506784",
             "minorgridcolor": "#506784",
             "startlinecolor": "#A2B1C6"
            },
            "baxis": {
             "endlinecolor": "#A2B1C6",
             "gridcolor": "#506784",
             "linecolor": "#506784",
             "minorgridcolor": "#506784",
             "startlinecolor": "#A2B1C6"
            },
            "type": "carpet"
           }
          ],
          "choropleth": [
           {
            "colorbar": {
             "outlinewidth": 0,
             "ticks": ""
            },
            "type": "choropleth"
           }
          ],
          "contour": [
           {
            "colorbar": {
             "outlinewidth": 0,
             "ticks": ""
            },
            "colorscale": [
             [
              0,
              "#0d0887"
             ],
             [
              0.1111111111111111,
              "#46039f"
             ],
             [
              0.2222222222222222,
              "#7201a8"
             ],
             [
              0.3333333333333333,
              "#9c179e"
             ],
             [
              0.4444444444444444,
              "#bd3786"
             ],
             [
              0.5555555555555556,
              "#d8576b"
             ],
             [
              0.6666666666666666,
              "#ed7953"
             ],
             [
              0.7777777777777778,
              "#fb9f3a"
             ],
             [
              0.8888888888888888,
              "#fdca26"
             ],
             [
              1,
              "#f0f921"
             ]
            ],
            "type": "contour"
           }
          ],
          "contourcarpet": [
           {
            "colorbar": {
             "outlinewidth": 0,
             "ticks": ""
            },
            "type": "contourcarpet"
           }
          ],
          "heatmap": [
           {
            "colorbar": {
             "outlinewidth": 0,
             "ticks": ""
            },
            "colorscale": [
             [
              0,
              "#0d0887"
             ],
             [
              0.1111111111111111,
              "#46039f"
             ],
             [
              0.2222222222222222,
              "#7201a8"
             ],
             [
              0.3333333333333333,
              "#9c179e"
             ],
             [
              0.4444444444444444,
              "#bd3786"
             ],
             [
              0.5555555555555556,
              "#d8576b"
             ],
             [
              0.6666666666666666,
              "#ed7953"
             ],
             [
              0.7777777777777778,
              "#fb9f3a"
             ],
             [
              0.8888888888888888,
              "#fdca26"
             ],
             [
              1,
              "#f0f921"
             ]
            ],
            "type": "heatmap"
           }
          ],
          "heatmapgl": [
           {
            "colorbar": {
             "outlinewidth": 0,
             "ticks": ""
            },
            "colorscale": [
             [
              0,
              "#0d0887"
             ],
             [
              0.1111111111111111,
              "#46039f"
             ],
             [
              0.2222222222222222,
              "#7201a8"
             ],
             [
              0.3333333333333333,
              "#9c179e"
             ],
             [
              0.4444444444444444,
              "#bd3786"
             ],
             [
              0.5555555555555556,
              "#d8576b"
             ],
             [
              0.6666666666666666,
              "#ed7953"
             ],
             [
              0.7777777777777778,
              "#fb9f3a"
             ],
             [
              0.8888888888888888,
              "#fdca26"
             ],
             [
              1,
              "#f0f921"
             ]
            ],
            "type": "heatmapgl"
           }
          ],
          "histogram": [
           {
            "marker": {
             "pattern": {
              "fillmode": "overlay",
              "size": 10,
              "solidity": 0.2
             }
            },
            "type": "histogram"
           }
          ],
          "histogram2d": [
           {
            "colorbar": {
             "outlinewidth": 0,
             "ticks": ""
            },
            "colorscale": [
             [
              0,
              "#0d0887"
             ],
             [
              0.1111111111111111,
              "#46039f"
             ],
             [
              0.2222222222222222,
              "#7201a8"
             ],
             [
              0.3333333333333333,
              "#9c179e"
             ],
             [
              0.4444444444444444,
              "#bd3786"
             ],
             [
              0.5555555555555556,
              "#d8576b"
             ],
             [
              0.6666666666666666,
              "#ed7953"
             ],
             [
              0.7777777777777778,
              "#fb9f3a"
             ],
             [
              0.8888888888888888,
              "#fdca26"
             ],
             [
              1,
              "#f0f921"
             ]
            ],
            "type": "histogram2d"
           }
          ],
          "histogram2dcontour": [
           {
            "colorbar": {
             "outlinewidth": 0,
             "ticks": ""
            },
            "colorscale": [
             [
              0,
              "#0d0887"
             ],
             [
              0.1111111111111111,
              "#46039f"
             ],
             [
              0.2222222222222222,
              "#7201a8"
             ],
             [
              0.3333333333333333,
              "#9c179e"
             ],
             [
              0.4444444444444444,
              "#bd3786"
             ],
             [
              0.5555555555555556,
              "#d8576b"
             ],
             [
              0.6666666666666666,
              "#ed7953"
             ],
             [
              0.7777777777777778,
              "#fb9f3a"
             ],
             [
              0.8888888888888888,
              "#fdca26"
             ],
             [
              1,
              "#f0f921"
             ]
            ],
            "type": "histogram2dcontour"
           }
          ],
          "mesh3d": [
           {
            "colorbar": {
             "outlinewidth": 0,
             "ticks": ""
            },
            "type": "mesh3d"
           }
          ],
          "parcoords": [
           {
            "line": {
             "colorbar": {
              "outlinewidth": 0,
              "ticks": ""
             }
            },
            "type": "parcoords"
           }
          ],
          "pie": [
           {
            "automargin": true,
            "type": "pie"
           }
          ],
          "scatter": [
           {
            "marker": {
             "line": {
              "color": "#283442"
             }
            },
            "type": "scatter"
           }
          ],
          "scatter3d": [
           {
            "line": {
             "colorbar": {
              "outlinewidth": 0,
              "ticks": ""
             }
            },
            "marker": {
             "colorbar": {
              "outlinewidth": 0,
              "ticks": ""
             }
            },
            "type": "scatter3d"
           }
          ],
          "scattercarpet": [
           {
            "marker": {
             "colorbar": {
              "outlinewidth": 0,
              "ticks": ""
             }
            },
            "type": "scattercarpet"
           }
          ],
          "scattergeo": [
           {
            "marker": {
             "colorbar": {
              "outlinewidth": 0,
              "ticks": ""
             }
            },
            "type": "scattergeo"
           }
          ],
          "scattergl": [
           {
            "marker": {
             "line": {
              "color": "#283442"
             }
            },
            "type": "scattergl"
           }
          ],
          "scattermapbox": [
           {
            "marker": {
             "colorbar": {
              "outlinewidth": 0,
              "ticks": ""
             }
            },
            "type": "scattermapbox"
           }
          ],
          "scatterpolar": [
           {
            "marker": {
             "colorbar": {
              "outlinewidth": 0,
              "ticks": ""
             }
            },
            "type": "scatterpolar"
           }
          ],
          "scatterpolargl": [
           {
            "marker": {
             "colorbar": {
              "outlinewidth": 0,
              "ticks": ""
             }
            },
            "type": "scatterpolargl"
           }
          ],
          "scatterternary": [
           {
            "marker": {
             "colorbar": {
              "outlinewidth": 0,
              "ticks": ""
             }
            },
            "type": "scatterternary"
           }
          ],
          "surface": [
           {
            "colorbar": {
             "outlinewidth": 0,
             "ticks": ""
            },
            "colorscale": [
             [
              0,
              "#0d0887"
             ],
             [
              0.1111111111111111,
              "#46039f"
             ],
             [
              0.2222222222222222,
              "#7201a8"
             ],
             [
              0.3333333333333333,
              "#9c179e"
             ],
             [
              0.4444444444444444,
              "#bd3786"
             ],
             [
              0.5555555555555556,
              "#d8576b"
             ],
             [
              0.6666666666666666,
              "#ed7953"
             ],
             [
              0.7777777777777778,
              "#fb9f3a"
             ],
             [
              0.8888888888888888,
              "#fdca26"
             ],
             [
              1,
              "#f0f921"
             ]
            ],
            "type": "surface"
           }
          ],
          "table": [
           {
            "cells": {
             "fill": {
              "color": "#506784"
             },
             "line": {
              "color": "rgb(17,17,17)"
             }
            },
            "header": {
             "fill": {
              "color": "#2a3f5f"
             },
             "line": {
              "color": "rgb(17,17,17)"
             }
            },
            "type": "table"
           }
          ]
         },
         "layout": {
          "annotationdefaults": {
           "arrowcolor": "#f2f5fa",
           "arrowhead": 0,
           "arrowwidth": 1
          },
          "autotypenumbers": "strict",
          "coloraxis": {
           "colorbar": {
            "outlinewidth": 0,
            "ticks": ""
           }
          },
          "colorscale": {
           "diverging": [
            [
             0,
             "#8e0152"
            ],
            [
             0.1,
             "#c51b7d"
            ],
            [
             0.2,
             "#de77ae"
            ],
            [
             0.3,
             "#f1b6da"
            ],
            [
             0.4,
             "#fde0ef"
            ],
            [
             0.5,
             "#f7f7f7"
            ],
            [
             0.6,
             "#e6f5d0"
            ],
            [
             0.7,
             "#b8e186"
            ],
            [
             0.8,
             "#7fbc41"
            ],
            [
             0.9,
             "#4d9221"
            ],
            [
             1,
             "#276419"
            ]
           ],
           "sequential": [
            [
             0,
             "#0d0887"
            ],
            [
             0.1111111111111111,
             "#46039f"
            ],
            [
             0.2222222222222222,
             "#7201a8"
            ],
            [
             0.3333333333333333,
             "#9c179e"
            ],
            [
             0.4444444444444444,
             "#bd3786"
            ],
            [
             0.5555555555555556,
             "#d8576b"
            ],
            [
             0.6666666666666666,
             "#ed7953"
            ],
            [
             0.7777777777777778,
             "#fb9f3a"
            ],
            [
             0.8888888888888888,
             "#fdca26"
            ],
            [
             1,
             "#f0f921"
            ]
           ],
           "sequentialminus": [
            [
             0,
             "#0d0887"
            ],
            [
             0.1111111111111111,
             "#46039f"
            ],
            [
             0.2222222222222222,
             "#7201a8"
            ],
            [
             0.3333333333333333,
             "#9c179e"
            ],
            [
             0.4444444444444444,
             "#bd3786"
            ],
            [
             0.5555555555555556,
             "#d8576b"
            ],
            [
             0.6666666666666666,
             "#ed7953"
            ],
            [
             0.7777777777777778,
             "#fb9f3a"
            ],
            [
             0.8888888888888888,
             "#fdca26"
            ],
            [
             1,
             "#f0f921"
            ]
           ]
          },
          "colorway": [
           "#636efa",
           "#EF553B",
           "#00cc96",
           "#ab63fa",
           "#FFA15A",
           "#19d3f3",
           "#FF6692",
           "#B6E880",
           "#FF97FF",
           "#FECB52"
          ],
          "font": {
           "color": "#f2f5fa"
          },
          "geo": {
           "bgcolor": "rgb(17,17,17)",
           "lakecolor": "rgb(17,17,17)",
           "landcolor": "rgb(17,17,17)",
           "showlakes": true,
           "showland": true,
           "subunitcolor": "#506784"
          },
          "hoverlabel": {
           "align": "left"
          },
          "hovermode": "closest",
          "mapbox": {
           "style": "dark"
          },
          "paper_bgcolor": "rgb(17,17,17)",
          "plot_bgcolor": "rgb(17,17,17)",
          "polar": {
           "angularaxis": {
            "gridcolor": "#506784",
            "linecolor": "#506784",
            "ticks": ""
           },
           "bgcolor": "rgb(17,17,17)",
           "radialaxis": {
            "gridcolor": "#506784",
            "linecolor": "#506784",
            "ticks": ""
           }
          },
          "scene": {
           "xaxis": {
            "backgroundcolor": "rgb(17,17,17)",
            "gridcolor": "#506784",
            "gridwidth": 2,
            "linecolor": "#506784",
            "showbackground": true,
            "ticks": "",
            "zerolinecolor": "#C8D4E3"
           },
           "yaxis": {
            "backgroundcolor": "rgb(17,17,17)",
            "gridcolor": "#506784",
            "gridwidth": 2,
            "linecolor": "#506784",
            "showbackground": true,
            "ticks": "",
            "zerolinecolor": "#C8D4E3"
           },
           "zaxis": {
            "backgroundcolor": "rgb(17,17,17)",
            "gridcolor": "#506784",
            "gridwidth": 2,
            "linecolor": "#506784",
            "showbackground": true,
            "ticks": "",
            "zerolinecolor": "#C8D4E3"
           }
          },
          "shapedefaults": {
           "line": {
            "color": "#f2f5fa"
           }
          },
          "sliderdefaults": {
           "bgcolor": "#C8D4E3",
           "bordercolor": "rgb(17,17,17)",
           "borderwidth": 1,
           "tickwidth": 0
          },
          "ternary": {
           "aaxis": {
            "gridcolor": "#506784",
            "linecolor": "#506784",
            "ticks": ""
           },
           "baxis": {
            "gridcolor": "#506784",
            "linecolor": "#506784",
            "ticks": ""
           },
           "bgcolor": "rgb(17,17,17)",
           "caxis": {
            "gridcolor": "#506784",
            "linecolor": "#506784",
            "ticks": ""
           }
          },
          "title": {
           "x": 0.05
          },
          "updatemenudefaults": {
           "bgcolor": "#506784",
           "borderwidth": 0
          },
          "xaxis": {
           "automargin": true,
           "gridcolor": "#283442",
           "linecolor": "#506784",
           "ticks": "",
           "title": {
            "standoff": 15
           },
           "zerolinecolor": "#283442",
           "zerolinewidth": 2
          },
          "yaxis": {
           "automargin": true,
           "gridcolor": "#283442",
           "linecolor": "#506784",
           "ticks": "",
           "title": {
            "standoff": 15
           },
           "zerolinecolor": "#283442",
           "zerolinewidth": 2
          }
         }
        },
        "title": {
         "text": "Calibration Curves with Uniform Buckets"
        },
        "width": 600,
        "xaxis": {
         "title": {
          "text": "Mean xG"
         }
        },
        "xaxis2": {
         "overlaying": "x",
         "showgrid": false,
         "showticklabels": false,
         "side": "top"
        },
        "yaxis": {
         "title": {
          "text": "Fraction of Actual Goals"
         }
        },
        "yaxis2": {
         "overlaying": "y",
         "showgrid": false,
         "side": "right",
         "title": {
          "text": "Number of Shots"
         }
        }
       }
      }
     },
     "metadata": {},
     "output_type": "display_data"
    }
   ],
   "source": [
    "fig = go.Figure()\n",
    "fig.update_layout(template='plotly_dark')\n",
    "\n",
    "prob_true, prob_pred = calibration_curve(y_test, predictions_test, n_bins=10)\n",
    "fig.add_trace(go.Scatter(x=prob_pred, y=prob_true, mode='markers+lines', name='Our Model'))\n",
    "\n",
    "prob_true, prob_pred = calibration_curve(y_test, sbxg_test, n_bins=10)\n",
    "fig.add_trace(go.Scatter(x=prob_pred, y=prob_true, mode='markers+lines', name='StatsBomb'))\n",
    "\n",
    "fig.add_trace(go.Scatter(x=np.linspace(0, 1, 10), y=np.linspace(0, 1, 10), mode='lines', line=dict(dash='dash'), name='Perfect Calibration'))\n",
    "\n",
    "predictions_test_binned = np.digitize(predictions_test, bins=np.linspace(0, 1, 11)) - 1\n",
    "bin_labels = [f\"{(i / 10)}\" for i in range(1,11)]\n",
    "bin_counts = np.bincount(predictions_test_binned, minlength=10)\n",
    "\n",
    "fig.add_trace(go.Bar(x=bin_labels, y=bin_counts, name='Number of Shots per Bucket', yaxis='y2', xaxis='x2', opacity=0.5))\n",
    "\n",
    "fig.update_layout(\n",
    "    title='Calibration Curves with Uniform Buckets',\n",
    "    xaxis_title='Mean xG',\n",
    "    yaxis={\n",
    "        'range': [0, 1],\n",
    "        'title': 'Fraction of Actual Goals'\n",
    "    },\n",
    "    yaxis2={\n",
    "        'title': 'Number of Shots',\n",
    "        'overlaying': 'y',\n",
    "        'side': 'right',\n",
    "        'showgrid':False,\n",
    "    },\n",
    "    xaxis2={\n",
    "        'overlaying': 'x',\n",
    "        'side': 'top',\n",
    "        'showgrid':False,\n",
    "        'showticklabels':False\n",
    "    },\n",
    "    legend=dict(\n",
    "        orientation='h',\n",
    "        yanchor='bottom',\n",
    "        y=1,\n",
    "        xanchor='right',\n",
    "        x=1\n",
    "    ),\n",
    "    width=600,\n",
    "    height=600\n",
    ")\n",
    "\n",
    "fig.show()"
   ]
  }
 ],
 "metadata": {
  "kernelspec": {
   "display_name": "myenv",
   "language": "python",
   "name": "python3"
  },
  "language_info": {
   "codemirror_mode": {
    "name": "ipython",
    "version": 3
   },
   "file_extension": ".py",
   "mimetype": "text/x-python",
   "name": "python",
   "nbconvert_exporter": "python",
   "pygments_lexer": "ipython3",
   "version": "3.12.1"
  },
  "orig_nbformat": 4,
  "vscode": {
   "interpreter": {
    "hash": "0b6471029c46d78c53deab5251606b2fd3273a55e340daa2ce8724a62eb4e9af"
   }
  }
 },
 "nbformat": 4,
 "nbformat_minor": 2
}
